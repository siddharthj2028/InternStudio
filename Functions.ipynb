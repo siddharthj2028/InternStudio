{
 "cells": [
  {
   "cell_type": "markdown",
   "id": "f19ea4b5-88c7-4d78-8a28-32d09b9b470e",
   "metadata": {},
   "source": [
    "# functions are a block of code only run when called"
   ]
  },
  {
   "cell_type": "markdown",
   "id": "0ecfeace-6744-40b0-9639-cc8af1950fd8",
   "metadata": {},
   "source": [
    "## advantages of fucntions: \n",
    "    1.reuse\n",
    "    2.flexibility\n",
    "## different types of functions:\n",
    "    1. built in functions: \n",
    "        print(),type()\n",
    "    2. user defined function\n",
    "    3. anonymous function\n",
    "    4. recursive function\n",
    "    "
   ]
  },
  {
   "cell_type": "code",
   "execution_count": 16,
   "id": "6e50849f-ca4d-4a94-9263-83066a088738",
   "metadata": {},
   "outputs": [],
   "source": [
    "#syntax: \n",
    "\n",
    "#def function_name(parameters1,parameter2,....):\n",
    "    #body of the function ( the use of the function is defined here)\n",
    "    #print()/return\n",
    "\n",
    "#function_name(arg1,arg2,.....)"
   ]
  },
  {
   "cell_type": "code",
   "execution_count": 28,
   "id": "0889b179-3e30-4ea8-8593-9ca1a5033970",
   "metadata": {},
   "outputs": [],
   "source": [
    "def sum_1(num1,num2):\n",
    "    return(num1 + num2)"
   ]
  },
  {
   "cell_type": "code",
   "execution_count": 6,
   "id": "7fe3b41b-6356-4d99-9699-0944ba3ec28d",
   "metadata": {},
   "outputs": [
    {
     "name": "stdout",
     "output_type": "stream",
     "text": [
      "50\n"
     ]
    }
   ],
   "source": [
    "sum_1(30,20)"
   ]
  },
  {
   "cell_type": "markdown",
   "id": "2c5eea99-0cba-4b09-9ed5-02a151bf2f75",
   "metadata": {},
   "source": [
    "# when to use print and when to use return"
   ]
  },
  {
   "cell_type": "code",
   "execution_count": 22,
   "id": "fe7fe41d-e00c-4341-acf5-8b15c2a4f862",
   "metadata": {},
   "outputs": [],
   "source": [
    "# print() is used to display the output of a function as seen above \n",
    "# return is used when we use the output of a function for furthur use as seen below"
   ]
  },
  {
   "cell_type": "code",
   "execution_count": 36,
   "id": "34a4df64-19a1-474b-97c9-3b203c6319e7",
   "metadata": {},
   "outputs": [],
   "source": [
    "def sub_1(num1,num2):\n",
    "    return(num1 - num2)"
   ]
  },
  {
   "cell_type": "code",
   "execution_count": 38,
   "id": "07e4fcbd-83f6-4ea4-a706-cec7d0b20e73",
   "metadata": {},
   "outputs": [],
   "source": [
    "def master(num1,num2):\n",
    "    ans1 = sum_1(num1,num2)\n",
    "    ans2 = sub_1(num1,num2)\n",
    "    print(ans1,ans2)"
   ]
  },
  {
   "cell_type": "code",
   "execution_count": 40,
   "id": "11edd5b2-f3b5-4e4c-a377-0952665f556b",
   "metadata": {},
   "outputs": [
    {
     "name": "stdout",
     "output_type": "stream",
     "text": [
      "50 10\n"
     ]
    }
   ],
   "source": [
    "master(30,20)"
   ]
  },
  {
   "cell_type": "code",
   "execution_count": 42,
   "id": "faca4499-66c9-46c8-bb50-4082dd6c4150",
   "metadata": {},
   "outputs": [],
   "source": [
    "#variable length arugument: (for n number of arguments)\n"
   ]
  },
  {
   "cell_type": "code",
   "execution_count": 52,
   "id": "90440dd6-7ce9-4b23-90d6-6a80454a8a7c",
   "metadata": {},
   "outputs": [],
   "source": [
    "def variable_length_func(*para_1):\n",
    "    sum = 0\n",
    "    for i in para_1:\n",
    "        sum += i\n",
    "    print(sum)"
   ]
  },
  {
   "cell_type": "code",
   "execution_count": 54,
   "id": "6d7cc366-7395-47a5-8409-ab5338fea936",
   "metadata": {},
   "outputs": [
    {
     "name": "stdout",
     "output_type": "stream",
     "text": [
      "100\n"
     ]
    }
   ],
   "source": [
    "variable_length_func(20,30,50)"
   ]
  },
  {
   "cell_type": "code",
   "execution_count": 58,
   "id": "c597f042-95dd-4c86-9545-09579c6aa0d9",
   "metadata": {},
   "outputs": [
    {
     "name": "stdout",
     "output_type": "stream",
     "text": [
      "100\n"
     ]
    }
   ],
   "source": [
    "variable_length_func(10,40,40,10)"
   ]
  },
  {
   "cell_type": "markdown",
   "id": "51033858-661c-4e7c-b4c7-8d3591e9306c",
   "metadata": {},
   "source": [
    "# Anonymous Function:"
   ]
  },
  {
   "cell_type": "code",
   "execution_count": 61,
   "id": "22f39e3d-8ae2-49b3-8722-487faa9cfde4",
   "metadata": {},
   "outputs": [],
   "source": [
    "#syntax:\n",
    "\n",
    "#var = lambda arg1,arg2:expression\n",
    "#var(10,20)"
   ]
  },
  {
   "cell_type": "code",
   "execution_count": 65,
   "id": "90910a36-aed1-47e6-b625-570c2fd4f619",
   "metadata": {},
   "outputs": [
    {
     "data": {
      "text/plain": [
       "125"
      ]
     },
     "execution_count": 65,
     "metadata": {},
     "output_type": "execute_result"
    }
   ],
   "source": [
    "#cube of a number:\n",
    "\n",
    "cube = lambda n:n**3\n",
    "cube(5)\n"
   ]
  },
  {
   "cell_type": "code",
   "execution_count": 77,
   "id": "542d6992-550e-439c-9bbd-21479916f764",
   "metadata": {},
   "outputs": [],
   "source": [
    "#wtih if else statements : \n",
    "#var = lambda arg:(if true what to print) if (condition) else (if false what to print)\n",
    "var_1 =lambda x:\"even\" if x%2==0 else \"not an even number\""
   ]
  },
  {
   "cell_type": "code",
   "execution_count": 79,
   "id": "3c4a7088-2fdd-4b50-9897-a0cee2cca9b1",
   "metadata": {},
   "outputs": [
    {
     "data": {
      "text/plain": [
       "'not an even number'"
      ]
     },
     "execution_count": 79,
     "metadata": {},
     "output_type": "execute_result"
    }
   ],
   "source": [
    "var_1(41)"
   ]
  },
  {
   "cell_type": "markdown",
   "id": "6bab1012-cb32-4502-b13f-cd72451c0051",
   "metadata": {},
   "source": [
    "# Recursive Function:"
   ]
  },
  {
   "cell_type": "code",
   "execution_count": 86,
   "id": "81298790-8208-4d25-8807-7da4e768db9b",
   "metadata": {},
   "outputs": [],
   "source": [
    "# the function that calls itself in the definitoion of the function "
   ]
  },
  {
   "cell_type": "code",
   "execution_count": null,
   "id": "69265ce9-714c-4bae-b344-b56a35599497",
   "metadata": {},
   "outputs": [],
   "source": [
    "# syntax: \n",
    "#def function_name(parameter,....):\n",
    "    .\n",
    "    .\n",
    "    .\n",
    "    .\n",
    "    .\n",
    "    function_name(arg1,arg2.....)\n",
    "\n",
    "#call:\n",
    "function_name(arg_1,arg_2)\n",
    "\n",
    "    "
   ]
  },
  {
   "cell_type": "code",
   "execution_count": 88,
   "id": "418cf029-7b39-46ad-a6fd-0198adac3b9a",
   "metadata": {},
   "outputs": [],
   "source": [
    "def factorial(x):\n",
    "    if x == 1:\n",
    "        return 1\n",
    "    else:\n",
    "        return x * factorial(x-1)\n",
    "        "
   ]
  },
  {
   "cell_type": "code",
   "execution_count": 90,
   "id": "dbbd4443-16ba-4968-ba5a-d31fdb7426fb",
   "metadata": {},
   "outputs": [
    {
     "data": {
      "text/plain": [
       "120"
      ]
     },
     "execution_count": 90,
     "metadata": {},
     "output_type": "execute_result"
    }
   ],
   "source": [
    "factorial(5)"
   ]
  },
  {
   "cell_type": "code",
   "execution_count": null,
   "id": "eb78ef1f-cb11-4734-b170-a4e0bec1fd33",
   "metadata": {},
   "outputs": [],
   "source": []
  }
 ],
 "metadata": {
  "kernelspec": {
   "display_name": "Python 3 (ipykernel)",
   "language": "python",
   "name": "python3"
  },
  "language_info": {
   "codemirror_mode": {
    "name": "ipython",
    "version": 3
   },
   "file_extension": ".py",
   "mimetype": "text/x-python",
   "name": "python",
   "nbconvert_exporter": "python",
   "pygments_lexer": "ipython3",
   "version": "3.12.4"
  }
 },
 "nbformat": 4,
 "nbformat_minor": 5
}
