{
 "cells": [
  {
   "cell_type": "code",
   "execution_count": 1,
   "id": "3b66dbab-c4a8-4ca4-985e-93232b44dd31",
   "metadata": {},
   "outputs": [
    {
     "name": "stdout",
     "output_type": "stream",
     "text": [
      "[10, 20, 30, 40, 50]\n"
     ]
    }
   ],
   "source": [
    "list_1 = [10,20,30,40,50]\n",
    "x = list_1.copy()\n",
    "print(x)"
   ]
  },
  {
   "cell_type": "code",
   "execution_count": 3,
   "id": "b4a5b45e-346f-492a-8809-9a6b14c34963",
   "metadata": {},
   "outputs": [
    {
     "data": {
      "text/plain": [
       "1671279228608"
      ]
     },
     "execution_count": 3,
     "metadata": {},
     "output_type": "execute_result"
    }
   ],
   "source": [
    "#to see and diffrentiate between the memory location of 22 diff elements we use built in function id()\n",
    "id(list_1)"
   ]
  },
  {
   "cell_type": "code",
   "execution_count": 5,
   "id": "bd12d721-7b7e-4927-956a-5a087c0f7c70",
   "metadata": {},
   "outputs": [
    {
     "data": {
      "text/plain": [
       "1671279282112"
      ]
     },
     "execution_count": 5,
     "metadata": {},
     "output_type": "execute_result"
    }
   ],
   "source": [
    "id(x)"
   ]
  },
  {
   "cell_type": "code",
   "execution_count": 7,
   "id": "2ca58069-0ec4-415b-afbb-e7de5958ab04",
   "metadata": {},
   "outputs": [],
   "source": [
    "#deep copy is copying in such a way that we are copying elements but not copying the memory location "
   ]
  },
  {
   "cell_type": "code",
   "execution_count": 9,
   "id": "3d7cbc9b-9203-4d30-a273-d8afc48d9070",
   "metadata": {},
   "outputs": [
    {
     "name": "stdout",
     "output_type": "stream",
     "text": [
      "[10, 20, 30, 40, 50]\n"
     ]
    }
   ],
   "source": [
    "y = list_1\n",
    "print(y)"
   ]
  },
  {
   "cell_type": "code",
   "execution_count": 11,
   "id": "b18bfe64-887e-44e3-959a-edfc1d2b670a",
   "metadata": {},
   "outputs": [
    {
     "data": {
      "text/plain": [
       "1671279228608"
      ]
     },
     "execution_count": 11,
     "metadata": {},
     "output_type": "execute_result"
    }
   ],
   "source": [
    "id(y)"
   ]
  },
  {
   "cell_type": "code",
   "execution_count": 13,
   "id": "28c51bcf-1154-4e52-b112-ac5e2fbb7419",
   "metadata": {},
   "outputs": [],
   "source": [
    "#shallow copy is copying in such a way that we are copying elements and copying the memory location\n",
    "#suppose we make changes to list_1 then the changes will reflect in the y as well as they are in the same locatuion"
   ]
  },
  {
   "cell_type": "code",
   "execution_count": null,
   "id": "e14a2240-179d-4c14-93e7-908952a78742",
   "metadata": {},
   "outputs": [],
   "source": [
    "#python visual tutor"
   ]
  },
  {
   "cell_type": "code",
   "execution_count": null,
   "id": "9754df29-3764-4379-afef-d8bc3a08713a",
   "metadata": {},
   "outputs": [],
   "source": []
  }
 ],
 "metadata": {
  "kernelspec": {
   "display_name": "Python 3 (ipykernel)",
   "language": "python",
   "name": "python3"
  },
  "language_info": {
   "codemirror_mode": {
    "name": "ipython",
    "version": 3
   },
   "file_extension": ".py",
   "mimetype": "text/x-python",
   "name": "python",
   "nbconvert_exporter": "python",
   "pygments_lexer": "ipython3",
   "version": "3.12.4"
  }
 },
 "nbformat": 4,
 "nbformat_minor": 5
}
