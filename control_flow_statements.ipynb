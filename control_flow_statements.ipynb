{
 "cells": [
  {
   "cell_type": "code",
   "execution_count": 1,
   "id": "1b253045-5be1-436e-aa11-c4a1432e30c8",
   "metadata": {},
   "outputs": [],
   "source": [
    "#for loop and while loop\n",
    "#for loop => known number of iterations\n",
    "#while loop => unknown number of iterations\n"
   ]
  },
  {
   "cell_type": "code",
   "execution_count": 3,
   "id": "11dbeef0-7d25-400a-aa21-8d32dd342116",
   "metadata": {},
   "outputs": [],
   "source": [
    "#iterative datatypes: \n",
    "                    # => list\n",
    "                    # => tuple\n",
    "                    # => set\n",
    "                    # => dict\n",
    "                    # => string"
   ]
  },
  {
   "cell_type": "code",
   "execution_count": 7,
   "id": "43089796-747d-47b7-a787-0a52fad167cc",
   "metadata": {},
   "outputs": [
    {
     "name": "stdout",
     "output_type": "stream",
     "text": [
      "10\n",
      "20\n",
      "30\n",
      "40\n"
     ]
    }
   ],
   "source": [
    "list_1 = [10,20,30,40]\n",
    "\n",
    "for i in list_1:\n",
    "    print(i)"
   ]
  },
  {
   "cell_type": "code",
   "execution_count": 9,
   "id": "d2a9d3e7-22f3-499f-b2ed-5dcd1e97093f",
   "metadata": {},
   "outputs": [
    {
     "name": "stdout",
     "output_type": "stream",
     "text": [
      "10\n",
      "20\n",
      "30\n",
      "40\n",
      "50\n",
      "10\n"
     ]
    }
   ],
   "source": [
    "#the syntax remains the same but the order varies or is random in iteration\n",
    "set_1 = (10,20,30,40,50,10)\n",
    "for i in set_1:\n",
    "    print(i)"
   ]
  },
  {
   "cell_type": "code",
   "execution_count": 11,
   "id": "421335ea-7af2-4531-b69f-41be853b919d",
   "metadata": {},
   "outputs": [
    {
     "name": "stdout",
     "output_type": "stream",
     "text": [
      "name\n",
      "nickname\n",
      "age\n"
     ]
    }
   ],
   "source": [
    "dict_1 = {\"name\":\"sharath\",\"nickname\":\"logic\",\"age\":17}\n",
    "\n",
    "for i in dict_1:\n",
    "    print(i)"
   ]
  },
  {
   "cell_type": "code",
   "execution_count": 13,
   "id": "0da1b762-585a-463f-8ec2-f20d0b4cf9aa",
   "metadata": {},
   "outputs": [
    {
     "name": "stdout",
     "output_type": "stream",
     "text": [
      "sharath\n",
      "logic\n",
      "17\n"
     ]
    }
   ],
   "source": [
    "for i in dict_1.values():\n",
    "    print(i)"
   ]
  },
  {
   "cell_type": "code",
   "execution_count": 15,
   "id": "5d61d9cc-d98e-4372-a7da-f1ee53ab0ee8",
   "metadata": {},
   "outputs": [
    {
     "name": "stdout",
     "output_type": "stream",
     "text": [
      "('name', 'sharath')\n",
      "('nickname', 'logic')\n",
      "('age', 17)\n"
     ]
    }
   ],
   "source": [
    "for i in dict_1.items():\n",
    "    print(i)"
   ]
  },
  {
   "cell_type": "code",
   "execution_count": null,
   "id": "209df095-f5b5-410a-8804-5e55c1835b3c",
   "metadata": {},
   "outputs": [],
   "source": [
    "#built in functions:\n",
    "1.range\n",
    "2.enumerate()\n",
    "3.zip"
   ]
  },
  {
   "cell_type": "code",
   "execution_count": 17,
   "id": "58de3f94-e6a7-4889-b459-ec6683ea9394",
   "metadata": {},
   "outputs": [
    {
     "name": "stdout",
     "output_type": "stream",
     "text": [
      "1\n",
      "2\n",
      "3\n",
      "4\n",
      "5\n",
      "6\n",
      "7\n",
      "8\n",
      "9\n",
      "10\n"
     ]
    }
   ],
   "source": [
    "for i in range(1,11):\n",
    "    print(i)"
   ]
  },
  {
   "cell_type": "code",
   "execution_count": 19,
   "id": "c749b2e5-3428-4396-bf07-50da9372302c",
   "metadata": {},
   "outputs": [
    {
     "name": "stdout",
     "output_type": "stream",
     "text": [
      "1\n",
      "3\n",
      "5\n",
      "7\n",
      "9\n",
      "11\n",
      "13\n",
      "15\n",
      "17\n",
      "19\n"
     ]
    }
   ],
   "source": [
    "# for(start,stop,skips/jumps) \n",
    "for i in range(1,20,2):\n",
    "    print(i)"
   ]
  },
  {
   "cell_type": "code",
   "execution_count": 21,
   "id": "09da01da-6116-4b50-944b-1db8e56cadb6",
   "metadata": {},
   "outputs": [
    {
     "name": "stdout",
     "output_type": "stream",
     "text": [
      "(0, 10)\n",
      "(1, 20)\n",
      "(2, 30)\n",
      "(3, 40)\n"
     ]
    }
   ],
   "source": [
    "#whenever we need the combination of element and its index position we use enumerate\n",
    "for i in enumerate(list_1):\n",
    "    print(i)"
   ]
  },
  {
   "cell_type": "code",
   "execution_count": 27,
   "id": "aa55c57c-df30-4be4-a5bb-738f79845af6",
   "metadata": {},
   "outputs": [
    {
     "name": "stdout",
     "output_type": "stream",
     "text": [
      "77\n",
      "456\n",
      "282\n",
      "106\n"
     ]
    }
   ],
   "source": [
    "list_2 = [67,436,252,66]\n",
    "list_3 = [324,342,45,32]\n",
    "\n",
    "for i,j in zip(list_1,list_2):\n",
    "    print(i+j)"
   ]
  },
  {
   "cell_type": "code",
   "execution_count": null,
   "id": "1f32f921-62ff-4863-ad11-36c6f1627fea",
   "metadata": {},
   "outputs": [],
   "source": [
    "                                        WHILE LOOP"
   ]
  },
  {
   "cell_type": "code",
   "execution_count": 29,
   "id": "e801fedf-8e68-4750-86ec-db1aa9f2bb7f",
   "metadata": {},
   "outputs": [],
   "source": [
    "#runs until it turn true infinitly"
   ]
  },
  {
   "cell_type": "code",
   "execution_count": 1,
   "id": "28824c04-dffa-49bd-a908-1c92e3214bd1",
   "metadata": {},
   "outputs": [
    {
     "name": "stdin",
     "output_type": "stream",
     "text": [
      "enter the number 44\n"
     ]
    },
    {
     "name": "stdout",
     "output_type": "stream",
     "text": [
      "44\n"
     ]
    },
    {
     "name": "stdin",
     "output_type": "stream",
     "text": [
      "enter the next number 33\n"
     ]
    },
    {
     "name": "stdout",
     "output_type": "stream",
     "text": [
      "33\n"
     ]
    },
    {
     "name": "stdin",
     "output_type": "stream",
     "text": [
      "enter the next number 0\n"
     ]
    },
    {
     "name": "stdout",
     "output_type": "stream",
     "text": [
      "end\n"
     ]
    }
   ],
   "source": [
    "num = int(input(\"enter the number\"))\n",
    "\n",
    "while num!=0:\n",
    "    print(num)\n",
    "    num = int(input(\"enter the next number\"))\n",
    "print(\"end\")"
   ]
  },
  {
   "cell_type": "code",
   "execution_count": null,
   "id": "f4fb40ab-ea17-4ea9-be66-87d78be8af04",
   "metadata": {},
   "outputs": [],
   "source": [
    "                                        control statements"
   ]
  },
  {
   "cell_type": "code",
   "execution_count": null,
   "id": "82d076cb-8867-4583-8640-48866eba482f",
   "metadata": {},
   "outputs": [],
   "source": []
  }
 ],
 "metadata": {
  "kernelspec": {
   "display_name": "Python 3 (ipykernel)",
   "language": "python",
   "name": "python3"
  },
  "language_info": {
   "codemirror_mode": {
    "name": "ipython",
    "version": 3
   },
   "file_extension": ".py",
   "mimetype": "text/x-python",
   "name": "python",
   "nbconvert_exporter": "python",
   "pygments_lexer": "ipython3",
   "version": "3.12.4"
  }
 },
 "nbformat": 4,
 "nbformat_minor": 5
}
