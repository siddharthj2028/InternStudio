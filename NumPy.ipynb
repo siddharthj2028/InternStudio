{
 "cells": [
  {
   "cell_type": "code",
   "execution_count": null,
   "id": "6a780f22-e970-4762-96fa-47e04bd31d5a",
   "metadata": {},
   "outputs": [],
   "source": [
    "NumPy =====> Numerical python "
   ]
  },
  {
   "cell_type": "code",
   "execution_count": 3,
   "id": "8995620e-d682-4e0e-b445-310ef5c60c1b",
   "metadata": {},
   "outputs": [],
   "source": [
    "import numpy as np"
   ]
  },
  {
   "cell_type": "code",
   "execution_count": 5,
   "id": "c56bdde5-975b-4870-b845-8ddeed1eddb9",
   "metadata": {},
   "outputs": [
    {
     "data": {
      "text/plain": [
       "array([1, 2, 3])"
      ]
     },
     "execution_count": 5,
     "metadata": {},
     "output_type": "execute_result"
    }
   ],
   "source": [
    "array_1 = np.array([1,2,3])"
   ]
  },
  {
   "cell_type": "code",
   "execution_count": 9,
   "id": "d7824510-af84-4f81-80ae-b7d56c6e6af7",
   "metadata": {},
   "outputs": [
    {
     "name": "stdout",
     "output_type": "stream",
     "text": [
      "[[1 2 3]\n",
      " [4 5 6]]\n"
     ]
    }
   ],
   "source": [
    "array_2 = np.array([[1,2,3],[4,5,6]])\n",
    "print(array_2)"
   ]
  },
  {
   "cell_type": "code",
   "execution_count": 11,
   "id": "59bf553a-bc64-4b9a-8b0f-d957bb21f3b9",
   "metadata": {},
   "outputs": [],
   "source": [
    "arra3 = np.array((3,5,4))"
   ]
  },
  {
   "cell_type": "code",
   "execution_count": 13,
   "id": "18307378-28c5-4bc2-a05a-a74d2e805138",
   "metadata": {},
   "outputs": [
    {
     "name": "stdout",
     "output_type": "stream",
     "text": [
      "[3 5 4]\n"
     ]
    }
   ],
   "source": [
    "print(arra3)"
   ]
  },
  {
   "cell_type": "markdown",
   "id": "38cac573-1d6d-49ae-9d7c-0060fd36a794",
   "metadata": {},
   "source": [
    "# conversion of datatypes within the array,list"
   ]
  },
  {
   "cell_type": "code",
   "execution_count": 17,
   "id": "ad77d0dc-27fc-4c3b-975f-36002851e528",
   "metadata": {},
   "outputs": [
    {
     "data": {
      "text/plain": [
       "array([1.+0.j, 2.+0.j, 3.+0.j])"
      ]
     },
     "execution_count": 17,
     "metadata": {},
     "output_type": "execute_result"
    }
   ],
   "source": [
    "np.array([1,2,3],dtype=\"complex\")"
   ]
  },
  {
   "cell_type": "code",
   "execution_count": 19,
   "id": "a11843ad-5090-45b6-8392-9650e987e57b",
   "metadata": {},
   "outputs": [
    {
     "data": {
      "text/plain": [
       "array([1., 2., 3.])"
      ]
     },
     "execution_count": 19,
     "metadata": {},
     "output_type": "execute_result"
    }
   ],
   "source": [
    "np.array([1,2,3],dtype=\"float\")"
   ]
  },
  {
   "cell_type": "markdown",
   "id": "0ada7c58-9232-4a96-9743-99d0826f513d",
   "metadata": {},
   "source": [
    "# DIFFERENCE BETWEEN NUMPY ARRAY AND LIST"
   ]
  },
  {
   "cell_type": "code",
   "execution_count": 24,
   "id": "5720a1f0-bc18-4169-8277-c3207c34bed1",
   "metadata": {},
   "outputs": [],
   "source": [
    "array_01 = np.array([1,2,3])"
   ]
  },
  {
   "cell_type": "code",
   "execution_count": 26,
   "id": "f0d0395e-0cde-473c-b794-146ce55e5c73",
   "metadata": {},
   "outputs": [],
   "source": [
    "array_02 = np.array([2,3,4])"
   ]
  },
  {
   "cell_type": "code",
   "execution_count": 28,
   "id": "4cb0388d-91af-4198-adb4-1d68fab7c634",
   "metadata": {},
   "outputs": [
    {
     "name": "stdout",
     "output_type": "stream",
     "text": [
      "[3 5 7]\n"
     ]
    }
   ],
   "source": [
    "print(array_01 + array_02)"
   ]
  },
  {
   "cell_type": "code",
   "execution_count": 30,
   "id": "a06d533b-7dac-4b44-b473-86618192ef34",
   "metadata": {},
   "outputs": [],
   "source": [
    "list_1 = [1,2,3]\n",
    "list_2 = [2,3,4]"
   ]
  },
  {
   "cell_type": "code",
   "execution_count": 36,
   "id": "1072163d-93ed-44f3-bbd2-bb3f8538d262",
   "metadata": {},
   "outputs": [
    {
     "name": "stdout",
     "output_type": "stream",
     "text": [
      "[1, 2, 3, 2, 3, 4]\n"
     ]
    }
   ],
   "source": [
    "#concates the lists\n",
    "print(list_1 + list_2)"
   ]
  },
  {
   "cell_type": "code",
   "execution_count": 40,
   "id": "7510f195-2577-4a18-adc6-e3b29f108653",
   "metadata": {},
   "outputs": [
    {
     "name": "stdout",
     "output_type": "stream",
     "text": [
      "[3, 5, 7]\n"
     ]
    }
   ],
   "source": [
    "#for performing the operation we have to \n",
    "list_ans = []\n",
    "for i,j in zip(list_1,list_2):\n",
    "    list_ans.append(i+j)\n",
    "print(list_ans)\n",
    "    "
   ]
  },
  {
   "cell_type": "markdown",
   "id": "18ae316d-25bf-40ac-801d-18647cd5d1db",
   "metadata": {},
   "source": [
    "-Numpy array have fixed size of array creation, but it is not the case with pyhon lists\n",
    "\n",
    "-the elements in numpy array are all required to be of same datatype,list can support all data types at a time \n",
    "\n",
    "-Numpy takes less time consuming while performing math operations, lists take time.\n",
    "\n",
    "-numpy arrays takes less space as compared to the lists\n"
   ]
  },
  {
   "cell_type": "code",
   "execution_count": 43,
   "id": "c409ff98-161f-4646-b40f-e38c0d9fce65",
   "metadata": {},
   "outputs": [
    {
     "data": {
      "text/plain": [
       "1"
      ]
     },
     "execution_count": 43,
     "metadata": {},
     "output_type": "execute_result"
    }
   ],
   "source": [
    "#to check the dimension of an array\n",
    "array_01.ndim"
   ]
  },
  {
   "cell_type": "code",
   "execution_count": 49,
   "id": "c17d9654-a48c-4171-bdb6-40f7b3fb13e2",
   "metadata": {},
   "outputs": [
    {
     "data": {
      "text/plain": [
       "2"
      ]
     },
     "execution_count": 49,
     "metadata": {},
     "output_type": "execute_result"
    }
   ],
   "source": [
    "array_2.ndim"
   ]
  },
  {
   "cell_type": "code",
   "execution_count": 51,
   "id": "02316ccb-3e87-450e-9139-68c11fe386c1",
   "metadata": {},
   "outputs": [
    {
     "data": {
      "text/plain": [
       "(3,)"
      ]
     },
     "execution_count": 51,
     "metadata": {},
     "output_type": "execute_result"
    }
   ],
   "source": [
    "#to check the shape of the matrix\n",
    "array_01.shape"
   ]
  },
  {
   "cell_type": "code",
   "execution_count": 53,
   "id": "a3ff7134-4ebc-4858-87dd-fc71b7a41c0b",
   "metadata": {},
   "outputs": [
    {
     "data": {
      "text/plain": [
       "(2, 3)"
      ]
     },
     "execution_count": 53,
     "metadata": {},
     "output_type": "execute_result"
    }
   ],
   "source": [
    "array_2.shape"
   ]
  },
  {
   "cell_type": "code",
   "execution_count": 55,
   "id": "bc8aeff5-364b-4f73-96f4-7bb75933c2de",
   "metadata": {},
   "outputs": [
    {
     "data": {
      "text/plain": [
       "6"
      ]
     },
     "execution_count": 55,
     "metadata": {},
     "output_type": "execute_result"
    }
   ],
   "source": [
    "#to check size of the array (number of elemtns)\n",
    "array_2.size\n"
   ]
  },
  {
   "cell_type": "markdown",
   "id": "0e8352b2-cc8c-4c2a-b4b7-124320a03c2f",
   "metadata": {},
   "source": [
    "## Array Atributes"
   ]
  },
  {
   "cell_type": "code",
   "execution_count": 62,
   "id": "50af2333-24e4-42e6-b372-c98635e2b3fb",
   "metadata": {},
   "outputs": [
    {
     "name": "stdout",
     "output_type": "stream",
     "text": [
      "[0 1 2 3 4 5 6 7 8 9]\n",
      "[30 31 32 33 34 35 36 37 38 39]\n"
     ]
    }
   ],
   "source": [
    "#arange => same as range in lists, in numpy it prints the values in the specified range\n",
    "a1 = np.arange(10)\n",
    "a2 = np.arange(30,40)\n",
    "print(a1)\n",
    "print(a2)"
   ]
  },
  {
   "cell_type": "code",
   "execution_count": 66,
   "id": "1aa25224-cf4b-4e6d-85cc-a24a645b480d",
   "metadata": {},
   "outputs": [
    {
     "name": "stdout",
     "output_type": "stream",
     "text": [
      "[ 0.  1.  2.  3.  4.  5.  6.  7.  8.  9. 10. 11.]\n"
     ]
    }
   ],
   "source": [
    "a3 = np.arange(12,dtype=\"float\")\n",
    "print(a3)"
   ]
  },
  {
   "cell_type": "code",
   "execution_count": 70,
   "id": "43a47561-afe8-4e6c-85ba-a3731b9168bc",
   "metadata": {},
   "outputs": [
    {
     "name": "stdout",
     "output_type": "stream",
     "text": [
      "[[ 0.  1.  2.]\n",
      " [ 3.  4.  5.]\n",
      " [ 6.  7.  8.]\n",
      " [ 9. 10. 11.]]\n"
     ]
    }
   ],
   "source": [
    "#to convert 1D to 2D we use .reshape(row,coloumn)\n",
    "a3 = np.arange(12,dtype=\"float\").reshape(4,3)\n",
    "print(a3)"
   ]
  },
  {
   "cell_type": "code",
   "execution_count": 76,
   "id": "d681ded2-9e56-4366-9a14-0fbe6f44b65d",
   "metadata": {},
   "outputs": [
    {
     "name": "stdout",
     "output_type": "stream",
     "text": [
      "[[ 0  1  2]\n",
      " [ 3  4  5]\n",
      " [ 6  7  8]\n",
      " [ 9 10 11]]\n"
     ]
    }
   ],
   "source": [
    "#to convert the datatype of an array we use .astype(np.datatype)\n",
    "a3 = a3.astype(np.int64)\n",
    "print(a3)"
   ]
  },
  {
   "cell_type": "code",
   "execution_count": 78,
   "id": "744bd344-073f-482a-b9bf-6af3973385f8",
   "metadata": {},
   "outputs": [
    {
     "data": {
      "text/plain": [
       "array([[ 0,  2,  4],\n",
       "       [ 6,  8, 10],\n",
       "       [12, 14, 16],\n",
       "       [18, 20, 22]], dtype=int64)"
      ]
     },
     "execution_count": 78,
     "metadata": {},
     "output_type": "execute_result"
    }
   ],
   "source": [
    "a3*2"
   ]
  },
  {
   "cell_type": "code",
   "execution_count": 80,
   "id": "c0edf50a-ee1e-486c-bbe9-e5c93f0fbfee",
   "metadata": {},
   "outputs": [
    {
     "name": "stdout",
     "output_type": "stream",
     "text": [
      "[0 1 2]\n",
      "[3 4 5]\n",
      "[6 7 8]\n",
      "[ 9 10 11]\n"
     ]
    }
   ],
   "source": [
    "for i in a3:\n",
    "    print(i)"
   ]
  },
  {
   "cell_type": "code",
   "execution_count": 82,
   "id": "dece0c77-b976-4cac-a211-0f4d8bd52915",
   "metadata": {},
   "outputs": [
    {
     "name": "stdout",
     "output_type": "stream",
     "text": [
      "0\n",
      "1\n",
      "2\n",
      "3\n",
      "4\n",
      "5\n",
      "6\n",
      "7\n",
      "8\n",
      "9\n",
      "10\n",
      "11\n"
     ]
    }
   ],
   "source": [
    "#to pick specific elemts we use np.nditer(array)\n",
    "for i in np.nditer(a3):\n",
    "    print(i)"
   ]
  },
  {
   "cell_type": "code",
   "execution_count": 84,
   "id": "70538994-a1fd-4c7e-a465-ccbcb0af342b",
   "metadata": {},
   "outputs": [
    {
     "data": {
      "text/plain": [
       "array([[False, False, False],\n",
       "       [False, False, False],\n",
       "       [ True,  True,  True],\n",
       "       [ True,  True,  True]])"
      ]
     },
     "execution_count": 84,
     "metadata": {},
     "output_type": "execute_result"
    }
   ],
   "source": [
    "a3>5"
   ]
  },
  {
   "cell_type": "markdown",
   "id": "fdd5b656-730d-4210-9845-e4622580ca1a",
   "metadata": {},
   "source": [
    "# DIFFERENT WAYS OF CREATING A  NUMPY ARRAY"
   ]
  },
  {
   "cell_type": "code",
   "execution_count": 89,
   "id": "650ac723-3a4c-4ea9-aea3-dfc7ebb513a1",
   "metadata": {},
   "outputs": [],
   "source": [
    "import numpy as np"
   ]
  },
  {
   "cell_type": "code",
   "execution_count": 93,
   "id": "dc246827-65f4-4b5a-a71e-24e27ba96d89",
   "metadata": {},
   "outputs": [
    {
     "name": "stdout",
     "output_type": "stream",
     "text": [
      "[10 11 12]\n"
     ]
    }
   ],
   "source": [
    "z1 = np.array([10,11,12])\n",
    "print(z1)"
   ]
  },
  {
   "cell_type": "code",
   "execution_count": 95,
   "id": "e8d17d9b-65db-48bd-a293-d438b3e49205",
   "metadata": {},
   "outputs": [
    {
     "name": "stdout",
     "output_type": "stream",
     "text": [
      "[[10 11 12]\n",
      " [13 14 15]]\n"
     ]
    }
   ],
   "source": [
    "z1 = np.array([[10,11,12],[13,14,15]])\n",
    "print(z1)"
   ]
  },
  {
   "cell_type": "code",
   "execution_count": 105,
   "id": "eed724bb-87c4-4d6a-80d9-c65d092b603c",
   "metadata": {},
   "outputs": [
    {
     "data": {
      "text/plain": [
       "array([[0, 0, 0],\n",
       "       [0, 0, 0],\n",
       "       [0, 0, 0]])"
      ]
     },
     "execution_count": 105,
     "metadata": {},
     "output_type": "execute_result"
    }
   ],
   "source": [
    "#array of zeros: \n",
    "c1 = np.zeros((3,3),dtype=\"int\")\n",
    "c1"
   ]
  },
  {
   "cell_type": "code",
   "execution_count": 107,
   "id": "47679ce0-1e47-4af4-bcdd-b86ffde232f4",
   "metadata": {},
   "outputs": [
    {
     "data": {
      "text/plain": [
       "array([[1, 1, 1],\n",
       "       [1, 1, 1],\n",
       "       [1, 1, 1]])"
      ]
     },
     "execution_count": 107,
     "metadata": {},
     "output_type": "execute_result"
    }
   ],
   "source": [
    "#array of ones: \n",
    "c2 = np.ones((3,3),dtype=\"int\")\n",
    "c2"
   ]
  },
  {
   "cell_type": "code",
   "execution_count": 123,
   "id": "de594f96-5bdf-49b0-9467-4797f6461d4b",
   "metadata": {},
   "outputs": [
    {
     "data": {
      "text/plain": [
       "array([[0.0089861 , 0.38657128, 0.04416006, 0.95665297],\n",
       "       [0.43614665, 0.94897731, 0.78630599, 0.8662893 ],\n",
       "       [0.17316542, 0.07494859, 0.60074272, 0.16797218],\n",
       "       [0.73338017, 0.40844386, 0.52790882, 0.93757158]])"
      ]
     },
     "execution_count": 123,
     "metadata": {},
     "output_type": "execute_result"
    }
   ],
   "source": [
    "#array of randoms\n",
    "c3 = np.random.rand(4,4)\n",
    "c3"
   ]
  },
  {
   "cell_type": "code",
   "execution_count": 134,
   "id": "61a6a17d-2764-42b5-96b4-94c536a84f2a",
   "metadata": {},
   "outputs": [
    {
     "data": {
      "text/plain": [
       "array([[0.96702984, 0.54723225, 0.97268436, 0.71481599],\n",
       "       [0.69772882, 0.2160895 , 0.97627445, 0.00623026],\n",
       "       [0.25298236, 0.43479153, 0.77938292, 0.19768507],\n",
       "       [0.86299324, 0.98340068, 0.16384224, 0.59733394]])"
      ]
     },
     "execution_count": 134,
     "metadata": {},
     "output_type": "execute_result"
    }
   ],
   "source": [
    "#to fix the randomness of an array we use np.random.seed in the same cell above the array\n",
    "np.random.seed(4)\n",
    "c3 = np.random.rand(4,4)\n",
    "c3"
   ]
  },
  {
   "cell_type": "code",
   "execution_count": 136,
   "id": "b92f4782-65b1-4fb6-a357-54443a1139ce",
   "metadata": {},
   "outputs": [
    {
     "data": {
      "text/plain": [
       "array([[ 0.61866969, -0.08798693,  0.4250724 ],\n",
       "       [ 0.33225315, -1.15681626,  0.35099715],\n",
       "       [-0.60688728,  1.54697933,  0.72334161]])"
      ]
     },
     "execution_count": 136,
     "metadata": {},
     "output_type": "execute_result"
    }
   ],
   "source": [
    "#for array with negative values aswell we use np.random.randn\n",
    "c4 = np.random.randn(3,3)\n",
    "c4"
   ]
  },
  {
   "cell_type": "code",
   "execution_count": 144,
   "id": "7fc28d1f-d67f-4694-96d0-be921bec0b17",
   "metadata": {},
   "outputs": [
    {
     "data": {
      "text/plain": [
       "array([[96, 55, 51],\n",
       "       [90, 73, 58],\n",
       "       [59, 89, 95]])"
      ]
     },
     "execution_count": 144,
     "metadata": {},
     "output_type": "execute_result"
    }
   ],
   "source": [
    "np.random.seed(4)\n",
    "c5 = np.random.randint(low = 50,high =100,size=(3,3))\n",
    "c5"
   ]
  },
  {
   "cell_type": "markdown",
   "id": "9cbc188a-8265-4b28-a03e-a01349a59eed",
   "metadata": {},
   "source": [
    "# SLICING AND INDEXING"
   ]
  },
  {
   "cell_type": "code",
   "execution_count": 146,
   "id": "1afd0199-cf49-4847-96ef-bda8ef83a810",
   "metadata": {},
   "outputs": [
    {
     "data": {
      "text/plain": [
       "73"
      ]
     },
     "execution_count": 146,
     "metadata": {},
     "output_type": "execute_result"
    }
   ],
   "source": [
    "#[row,coloumn]\n",
    "c5[1,1]"
   ]
  },
  {
   "cell_type": "code",
   "execution_count": 148,
   "id": "6ac377f9-dbcf-4c66-bb7f-afce99d45194",
   "metadata": {},
   "outputs": [
    {
     "data": {
      "text/plain": [
       "array([[96, 55],\n",
       "       [90, 73]])"
      ]
     },
     "execution_count": 148,
     "metadata": {},
     "output_type": "execute_result"
    }
   ],
   "source": [
    "#suppose we need to fetch 96,55,90,73:\n",
    "c5[0:2,0:2]"
   ]
  },
  {
   "cell_type": "code",
   "execution_count": 154,
   "id": "1a9c5b7e-070a-466f-bc55-de50ab5c0971",
   "metadata": {},
   "outputs": [
    {
     "data": {
      "text/plain": [
       "array([89, 95])"
      ]
     },
     "execution_count": 154,
     "metadata": {},
     "output_type": "execute_result"
    }
   ],
   "source": [
    "c5[2,1:]"
   ]
  },
  {
   "cell_type": "code",
   "execution_count": 162,
   "id": "9e16f065-8ec2-4dec-8526-6a1e27174e51",
   "metadata": {},
   "outputs": [
    {
     "data": {
      "text/plain": [
       "array([[90, 73],\n",
       "       [59, 89]])"
      ]
     },
     "execution_count": 162,
     "metadata": {},
     "output_type": "execute_result"
    }
   ],
   "source": [
    "c5[1:,0:2]"
   ]
  },
  {
   "cell_type": "markdown",
   "id": "ec97d5c9-347d-4cd6-bf1f-4bc8b9a65cea",
   "metadata": {},
   "source": [
    "# MANIPULATION"
   ]
  },
  {
   "cell_type": "code",
   "execution_count": 165,
   "id": "f811bb9f-ae21-420e-8a15-88d82360112d",
   "metadata": {},
   "outputs": [],
   "source": [
    "#TO CONVERT 1D TO 2D WE USE reshape(row,coloumn)\n",
    "G = np.arange(1,13).reshape(3,4)"
   ]
  },
  {
   "cell_type": "code",
   "execution_count": 169,
   "id": "9d4c3ed8-7e27-465e-98d5-4fcd9871f176",
   "metadata": {},
   "outputs": [
    {
     "data": {
      "text/plain": [
       "array([[ 1,  2,  3,  4],\n",
       "       [ 5,  6,  7,  8],\n",
       "       [ 9, 10, 11, 12]])"
      ]
     },
     "execution_count": 169,
     "metadata": {},
     "output_type": "execute_result"
    }
   ],
   "source": [
    "G\n"
   ]
  },
  {
   "cell_type": "code",
   "execution_count": 175,
   "id": "83349cec-47be-487f-8b6d-75f4f96ef238",
   "metadata": {},
   "outputs": [
    {
     "data": {
      "text/plain": [
       "array([ 1,  2,  3,  4,  5,  6,  7,  8,  9, 10, 11, 12])"
      ]
     },
     "execution_count": 175,
     "metadata": {},
     "output_type": "execute_result"
    }
   ],
   "source": [
    "# TO CONVERT 2D ARRAY TO 1D OR TO FLATTEN WE USE araay.ravel()\n",
    "g = G.ravel()\n",
    "g"
   ]
  },
  {
   "cell_type": "code",
   "execution_count": 179,
   "id": "baaca1a8-172c-4360-b4bf-c0259eed8672",
   "metadata": {},
   "outputs": [
    {
     "data": {
      "text/plain": [
       "array([[ 1,  5,  9],\n",
       "       [ 2,  6, 10],\n",
       "       [ 3,  7, 11],\n",
       "       [ 4,  8, 12]])"
      ]
     },
     "execution_count": 179,
     "metadata": {},
     "output_type": "execute_result"
    }
   ],
   "source": [
    "#to transpose or to make row to coloumn values and vice versa we use array.transpose() \n",
    "T = G.transpose()\n",
    "T"
   ]
  },
  {
   "cell_type": "markdown",
   "id": "16319adf-4ce7-43cf-95e9-e048d1e4c6e3",
   "metadata": {},
   "source": [
    "# stacking and splitting of matrix"
   ]
  },
  {
   "cell_type": "code",
   "execution_count": 182,
   "id": "55189c62-9dd3-4f48-9069-972d921f7bff",
   "metadata": {},
   "outputs": [],
   "source": [
    "#we can stack the matrix one on top the other vertically or horizontally\n",
    "#  vertical = vstack\n",
    "#  horizontal = hstack"
   ]
  },
  {
   "cell_type": "code",
   "execution_count": 190,
   "id": "9dc5472c-6d3c-459b-ad47-fc167a34a0e3",
   "metadata": {},
   "outputs": [],
   "source": [
    "mat_1 = np.arange(12).reshape(3,4)\n",
    "mat_2 = np.arange(12,24).reshape(3,4)"
   ]
  },
  {
   "cell_type": "code",
   "execution_count": 192,
   "id": "478628f9-859f-4cc9-b4f3-2e3e60d7a4b5",
   "metadata": {},
   "outputs": [
    {
     "data": {
      "text/plain": [
       "array([[ 0,  1,  2,  3],\n",
       "       [ 4,  5,  6,  7],\n",
       "       [ 8,  9, 10, 11]])"
      ]
     },
     "execution_count": 192,
     "metadata": {},
     "output_type": "execute_result"
    }
   ],
   "source": [
    "mat_1"
   ]
  },
  {
   "cell_type": "code",
   "execution_count": 194,
   "id": "83dd9726-3354-407a-92f7-b931b87d5550",
   "metadata": {},
   "outputs": [
    {
     "data": {
      "text/plain": [
       "array([[12, 13, 14, 15],\n",
       "       [16, 17, 18, 19],\n",
       "       [20, 21, 22, 23]])"
      ]
     },
     "execution_count": 194,
     "metadata": {},
     "output_type": "execute_result"
    }
   ],
   "source": [
    "mat_2"
   ]
  },
  {
   "cell_type": "code",
   "execution_count": 210,
   "id": "9d27e8c5-f27a-4a83-a4bd-a6fea15432fe",
   "metadata": {},
   "outputs": [
    {
     "data": {
      "text/plain": [
       "array([[ 0,  1,  2,  3, 12, 13, 14, 15],\n",
       "       [ 4,  5,  6,  7, 16, 17, 18, 19],\n",
       "       [ 8,  9, 10, 11, 20, 21, 22, 23]])"
      ]
     },
     "execution_count": 210,
     "metadata": {},
     "output_type": "execute_result"
    }
   ],
   "source": [
    "h = np.hstack((mat_1,mat_2))\n",
    "h"
   ]
  },
  {
   "cell_type": "code",
   "execution_count": 212,
   "id": "ac5a27ad-eb65-42d6-b064-efec6a120698",
   "metadata": {},
   "outputs": [
    {
     "data": {
      "text/plain": [
       "array([[ 0,  1,  2,  3],\n",
       "       [ 4,  5,  6,  7],\n",
       "       [ 8,  9, 10, 11],\n",
       "       [12, 13, 14, 15],\n",
       "       [16, 17, 18, 19],\n",
       "       [20, 21, 22, 23]])"
      ]
     },
     "execution_count": 212,
     "metadata": {},
     "output_type": "execute_result"
    }
   ],
   "source": [
    "v = np.vstack((mat_1,mat_2))\n",
    "v"
   ]
  },
  {
   "cell_type": "code",
   "execution_count": 214,
   "id": "bb415085-94dd-440b-9ce0-4e0b0ee59c2e",
   "metadata": {},
   "outputs": [
    {
     "data": {
      "text/plain": [
       "[array([[ 0,  1,  2,  3],\n",
       "        [ 4,  5,  6,  7],\n",
       "        [ 8,  9, 10, 11]]),\n",
       " array([[12, 13, 14, 15],\n",
       "        [16, 17, 18, 19],\n",
       "        [20, 21, 22, 23]])]"
      ]
     },
     "execution_count": 214,
     "metadata": {},
     "output_type": "execute_result"
    }
   ],
   "source": [
    "#we can also perform splitting \n",
    "#with np.vsplit or hsplit but it should be equal amounts of split in matrix \n",
    "# np.vsplit(array,number of parts split)\n",
    "\n",
    "np.vsplit(v,2)"
   ]
  },
  {
   "cell_type": "code",
   "execution_count": 218,
   "id": "dc1d72ae-a16c-486c-adef-b06c243e9150",
   "metadata": {},
   "outputs": [
    {
     "data": {
      "text/plain": [
       "[array([[0, 1],\n",
       "        [4, 5],\n",
       "        [8, 9]]),\n",
       " array([[ 2,  3],\n",
       "        [ 6,  7],\n",
       "        [10, 11]]),\n",
       " array([[12, 13],\n",
       "        [16, 17],\n",
       "        [20, 21]]),\n",
       " array([[14, 15],\n",
       "        [18, 19],\n",
       "        [22, 23]])]"
      ]
     },
     "execution_count": 218,
     "metadata": {},
     "output_type": "execute_result"
    }
   ],
   "source": [
    "np.hsplit(h,4)"
   ]
  },
  {
   "cell_type": "code",
   "execution_count": 15,
   "id": "96a157b5-f44b-41e4-b442-24a8a50fe0e7",
   "metadata": {},
   "outputs": [
    {
     "data": {
      "text/plain": [
       "array([10, 20, 30])"
      ]
     },
     "execution_count": 15,
     "metadata": {},
     "output_type": "execute_result"
    }
   ],
   "source": [
    "#using list or tuples\n",
    "\n",
    "import numpy as np\n",
    "\n",
    "lst = [10,20,30]\n",
    "my_array = np.array(lst)\n",
    "my_array"
   ]
  },
  {
   "cell_type": "code",
   "execution_count": 11,
   "id": "e76f5697-30d8-48fc-a057-edd4bb1a7870",
   "metadata": {},
   "outputs": [
    {
     "data": {
      "text/plain": [
       "array([10, 20, 30])"
      ]
     },
     "execution_count": 11,
     "metadata": {},
     "output_type": "execute_result"
    }
   ],
   "source": [
    "my_array1 = np.array([10,20,30])\n",
    "my_array1\n"
   ]
  },
  {
   "cell_type": "code",
   "execution_count": 21,
   "id": "cc3ee706-775f-417d-aad8-d3a2c08ea323",
   "metadata": {},
   "outputs": [
    {
     "data": {
      "text/plain": [
       "array([  50,  333, 3535])"
      ]
     },
     "execution_count": 21,
     "metadata": {},
     "output_type": "execute_result"
    }
   ],
   "source": [
    "tpl = (50,333,3535)\n",
    "my_tpl = np.array(tpl)\n",
    "my_tpl"
   ]
  },
  {
   "cell_type": "code",
   "execution_count": 23,
   "id": "50300667-6912-40dc-9e6b-d0075ff64e11",
   "metadata": {},
   "outputs": [
    {
     "data": {
      "text/plain": [
       "138"
      ]
     },
     "execution_count": 23,
     "metadata": {},
     "output_type": "execute_result"
    }
   ],
   "source": [
    "#linear algebra operations\n",
    "\n",
    "arr1 = np.array([2,3,4,5])\n",
    "arr2 = np.array([8,9,10,11])\n",
    "\n",
    "arr = np.dot(arr1, arr2)\n",
    "arr\n",
    "\n",
    "#(2*8 + 3*9 + 4*10 + 5*11)"
   ]
  },
  {
   "cell_type": "code",
   "execution_count": null,
   "id": "042eeb39-e3a4-47c3-8a8e-e7b2732cabb8",
   "metadata": {},
   "outputs": [],
   "source": []
  }
 ],
 "metadata": {
  "kernelspec": {
   "display_name": "Python 3 (ipykernel)",
   "language": "python",
   "name": "python3"
  },
  "language_info": {
   "codemirror_mode": {
    "name": "ipython",
    "version": 3
   },
   "file_extension": ".py",
   "mimetype": "text/x-python",
   "name": "python",
   "nbconvert_exporter": "python",
   "pygments_lexer": "ipython3",
   "version": "3.12.4"
  }
 },
 "nbformat": 4,
 "nbformat_minor": 5
}
