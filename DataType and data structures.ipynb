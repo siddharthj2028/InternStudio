{
 "cells": [
  {
   "cell_type": "code",
   "execution_count": 1,
   "id": "afd00797-502a-4074-863d-330becdc97f3",
   "metadata": {},
   "outputs": [],
   "source": [
    "#premitive data types           \n",
    "    1.int\n",
    "    2.float\n",
    "    3.bool\n",
    "    4.string"
   ]
  },
  {
   "cell_type": "code",
   "execution_count": null,
   "id": "9297a4a7-e7a8-4046-8fd8-86acdb23ba15",
   "metadata": {},
   "outputs": [],
   "source": [
    "#non primitive data types\n",
    "    1.list\n",
    "    2.tuple\n",
    "    3.set\n",
    "    4.dictionary"
   ]
  },
  {
   "cell_type": "markdown",
   "id": "8a4a9f72-b3b1-4623-b516-866e1f817e3e",
   "metadata": {},
   "source": [
    "## List:\n"
   ]
  },
  {
   "cell_type": "code",
   "execution_count": 7,
   "id": "05883b99-cf94-4c00-a9d0-4cc54c3c6afb",
   "metadata": {},
   "outputs": [
    {
     "name": "stdout",
     "output_type": "stream",
     "text": [
      "[10, 20, 30, 40, 50, 50.6, 'string', True, None]\n"
     ]
    }
   ],
   "source": [
    "list_1=[10,20,30,40,50,50.6,\"string\",True,None]\n",
    "print(list_1)"
   ]
  },
  {
   "cell_type": "raw",
   "id": "8f66fb97-4369-498a-9084-f70ccd78933e",
   "metadata": {},
   "source": [
    "-----> List is always declared between the square brackets\n",
    "-----> list follows indexing."
   ]
  },
  {
   "cell_type": "code",
   "execution_count": 9,
   "id": "9e41a2c6-901b-4ac2-8729-a5ba45c83120",
   "metadata": {},
   "outputs": [
    {
     "name": "stdout",
     "output_type": "stream",
     "text": [
      "Help on class list in module builtins:\n",
      "\n",
      "class list(object)\n",
      " |  list(iterable=(), /)\n",
      " |\n",
      " |  Built-in mutable sequence.\n",
      " |\n",
      " |  If no argument is given, the constructor creates a new empty list.\n",
      " |  The argument must be an iterable if specified.\n",
      " |\n",
      " |  Methods defined here:\n",
      " |\n",
      " |  __add__(self, value, /)\n",
      " |      Return self+value.\n",
      " |\n",
      " |  __contains__(self, key, /)\n",
      " |      Return bool(key in self).\n",
      " |\n",
      " |  __delitem__(self, key, /)\n",
      " |      Delete self[key].\n",
      " |\n",
      " |  __eq__(self, value, /)\n",
      " |      Return self==value.\n",
      " |\n",
      " |  __ge__(self, value, /)\n",
      " |      Return self>=value.\n",
      " |\n",
      " |  __getattribute__(self, name, /)\n",
      " |      Return getattr(self, name).\n",
      " |\n",
      " |  __getitem__(self, index, /)\n",
      " |      Return self[index].\n",
      " |\n",
      " |  __gt__(self, value, /)\n",
      " |      Return self>value.\n",
      " |\n",
      " |  __iadd__(self, value, /)\n",
      " |      Implement self+=value.\n",
      " |\n",
      " |  __imul__(self, value, /)\n",
      " |      Implement self*=value.\n",
      " |\n",
      " |  __init__(self, /, *args, **kwargs)\n",
      " |      Initialize self.  See help(type(self)) for accurate signature.\n",
      " |\n",
      " |  __iter__(self, /)\n",
      " |      Implement iter(self).\n",
      " |\n",
      " |  __le__(self, value, /)\n",
      " |      Return self<=value.\n",
      " |\n",
      " |  __len__(self, /)\n",
      " |      Return len(self).\n",
      " |\n",
      " |  __lt__(self, value, /)\n",
      " |      Return self<value.\n",
      " |\n",
      " |  __mul__(self, value, /)\n",
      " |      Return self*value.\n",
      " |\n",
      " |  __ne__(self, value, /)\n",
      " |      Return self!=value.\n",
      " |\n",
      " |  __repr__(self, /)\n",
      " |      Return repr(self).\n",
      " |\n",
      " |  __reversed__(self, /)\n",
      " |      Return a reverse iterator over the list.\n",
      " |\n",
      " |  __rmul__(self, value, /)\n",
      " |      Return value*self.\n",
      " |\n",
      " |  __setitem__(self, key, value, /)\n",
      " |      Set self[key] to value.\n",
      " |\n",
      " |  __sizeof__(self, /)\n",
      " |      Return the size of the list in memory, in bytes.\n",
      " |\n",
      " |  append(self, object, /)\n",
      " |      Append object to the end of the list.\n",
      " |\n",
      " |  clear(self, /)\n",
      " |      Remove all items from list.\n",
      " |\n",
      " |  copy(self, /)\n",
      " |      Return a shallow copy of the list.\n",
      " |\n",
      " |  count(self, value, /)\n",
      " |      Return number of occurrences of value.\n",
      " |\n",
      " |  extend(self, iterable, /)\n",
      " |      Extend list by appending elements from the iterable.\n",
      " |\n",
      " |  index(self, value, start=0, stop=9223372036854775807, /)\n",
      " |      Return first index of value.\n",
      " |\n",
      " |      Raises ValueError if the value is not present.\n",
      " |\n",
      " |  insert(self, index, object, /)\n",
      " |      Insert object before index.\n",
      " |\n",
      " |  pop(self, index=-1, /)\n",
      " |      Remove and return item at index (default last).\n",
      " |\n",
      " |      Raises IndexError if list is empty or index is out of range.\n",
      " |\n",
      " |  remove(self, value, /)\n",
      " |      Remove first occurrence of value.\n",
      " |\n",
      " |      Raises ValueError if the value is not present.\n",
      " |\n",
      " |  reverse(self, /)\n",
      " |      Reverse *IN PLACE*.\n",
      " |\n",
      " |  sort(self, /, *, key=None, reverse=False)\n",
      " |      Sort the list in ascending order and return None.\n",
      " |\n",
      " |      The sort is in-place (i.e. the list itself is modified) and stable (i.e. the\n",
      " |      order of two equal elements is maintained).\n",
      " |\n",
      " |      If a key function is given, apply it once to each list item and sort them,\n",
      " |      ascending or descending, according to their function values.\n",
      " |\n",
      " |      The reverse flag can be set to sort in descending order.\n",
      " |\n",
      " |  ----------------------------------------------------------------------\n",
      " |  Class methods defined here:\n",
      " |\n",
      " |  __class_getitem__(...)\n",
      " |      See PEP 585\n",
      " |\n",
      " |  ----------------------------------------------------------------------\n",
      " |  Static methods defined here:\n",
      " |\n",
      " |  __new__(*args, **kwargs)\n",
      " |      Create and return a new object.  See help(type) for accurate signature.\n",
      " |\n",
      " |  ----------------------------------------------------------------------\n",
      " |  Data and other attributes defined here:\n",
      " |\n",
      " |  __hash__ = None\n",
      "\n"
     ]
    }
   ],
   "source": [
    "help(list)\n",
    "#help(list) is a function "
   ]
  },
  {
   "cell_type": "code",
   "execution_count": 11,
   "id": "242e99bc-7b7f-4f15-991a-ca4132fdde53",
   "metadata": {},
   "outputs": [],
   "source": [
    "#lists are mutable(can be edited,changed)\n",
    "list_1[3] = \"hey\""
   ]
  },
  {
   "cell_type": "code",
   "execution_count": 13,
   "id": "3a5014b7-f65a-48b4-b86f-de6233aff91e",
   "metadata": {},
   "outputs": [
    {
     "data": {
      "text/plain": [
       "[10, 20, 30, 'hey', 50, 50.6, 'string', True, None]"
      ]
     },
     "execution_count": 13,
     "metadata": {},
     "output_type": "execute_result"
    }
   ],
   "source": [
    "list_1"
   ]
  },
  {
   "cell_type": "markdown",
   "id": "751d9ed9-d766-4c5a-b131-b58627dbb3f2",
   "metadata": {},
   "source": [
    "## Tuple:"
   ]
  },
  {
   "cell_type": "code",
   "execution_count": 17,
   "id": "86fb47e8-4613-4069-8967-b062a1a8728b",
   "metadata": {},
   "outputs": [
    {
     "name": "stdout",
     "output_type": "stream",
     "text": [
      "(10, 20, 30, 40, 50, 'hello', True, [20, 30, 40])\n"
     ]
    }
   ],
   "source": [
    "tuple_1 = (10,20,30,40,50,'hello',True,[20,30,40])\n",
    "print(tuple_1)"
   ]
  },
  {
   "cell_type": "code",
   "execution_count": 19,
   "id": "a4bbdd6d-e545-4b66-97c6-ed277408b8af",
   "metadata": {},
   "outputs": [
    {
     "data": {
      "text/plain": [
       "tuple"
      ]
     },
     "execution_count": 19,
     "metadata": {},
     "output_type": "execute_result"
    }
   ],
   "source": [
    "type(tuple_1)"
   ]
  },
  {
   "cell_type": "code",
   "execution_count": 21,
   "id": "0f01d2a0-7a1a-48db-8f48-3bd26f5207ed",
   "metadata": {},
   "outputs": [
    {
     "name": "stdout",
     "output_type": "stream",
     "text": [
      "<class 'tuple'>\n"
     ]
    }
   ],
   "source": [
    "print(type(tuple_1))"
   ]
  },
  {
   "cell_type": "code",
   "execution_count": null,
   "id": "6cc0054d-c67a-44fe-85d9-db9282afb7dc",
   "metadata": {},
   "outputs": [],
   "source": [
    "Tuple:\n",
    "    1. we can declare any data type inside tuple.\n",
    "    2.tuple follows indexing.\n",
    "    3. list and tuple both follow indexing and slicing.\n",
    "    4. tuples are immutable in nature"
   ]
  },
  {
   "cell_type": "code",
   "execution_count": 25,
   "id": "6b17a04e-2c2a-4610-ad1f-a177fb7e6457",
   "metadata": {},
   "outputs": [
    {
     "data": {
      "text/plain": [
       "30"
      ]
     },
     "execution_count": 25,
     "metadata": {},
     "output_type": "execute_result"
    }
   ],
   "source": [
    "tuple_1[-1][1]"
   ]
  },
  {
   "cell_type": "code",
   "execution_count": 31,
   "id": "1f3f2e4f-28e1-4fac-a03e-745205177c29",
   "metadata": {},
   "outputs": [],
   "source": [
    "#syntax of slicing:\n",
    "    1.always happens sequentiallly.\n",
    "#tuple_1[start index : end indexing + 1 : stride/jumps]"
   ]
  },
  {
   "cell_type": "code",
   "execution_count": 33,
   "id": "048ade71-8975-4720-a368-ba21f0a1866f",
   "metadata": {},
   "outputs": [
    {
     "data": {
      "text/plain": [
       "(20, 30, 40)"
      ]
     },
     "execution_count": 33,
     "metadata": {},
     "output_type": "execute_result"
    }
   ],
   "source": [
    "tuple_1[1:4]"
   ]
  },
  {
   "cell_type": "code",
   "execution_count": 43,
   "id": "003115c3-1c25-4924-8d7a-cfe89fc621c5",
   "metadata": {},
   "outputs": [
    {
     "data": {
      "text/plain": [
       "(10, 30, 50, True)"
      ]
     },
     "execution_count": 43,
     "metadata": {},
     "output_type": "execute_result"
    }
   ],
   "source": [
    "#FOR STRIDES/JUMPS\n",
    "tuple_1[::2]"
   ]
  },
  {
   "cell_type": "code",
   "execution_count": 49,
   "id": "f3d29645-9b22-41ec-b485-85ee11e62009",
   "metadata": {},
   "outputs": [
    {
     "data": {
      "text/plain": [
       "([20, 30, 40], 'hello', 40, 20)"
      ]
     },
     "execution_count": 49,
     "metadata": {},
     "output_type": "execute_result"
    }
   ],
   "source": [
    "#backward slicing\n",
    "tuple_1[::-2]"
   ]
  },
  {
   "cell_type": "code",
   "execution_count": 53,
   "id": "53311444-dc35-41b4-8c20-b4fab5277fef",
   "metadata": {},
   "outputs": [
    {
     "data": {
      "text/plain": [
       "([20, 30, 40], True, 'hello')"
      ]
     },
     "execution_count": 53,
     "metadata": {},
     "output_type": "execute_result"
    }
   ],
   "source": [
    "tuple_1[-1:-4:-1]"
   ]
  },
  {
   "cell_type": "code",
   "execution_count": 55,
   "id": "a74e91ed-67a2-4e5b-9ae5-eb1b86db6f3b",
   "metadata": {},
   "outputs": [
    {
     "name": "stdout",
     "output_type": "stream",
     "text": [
      "Help on class tuple in module builtins:\n",
      "\n",
      "class tuple(object)\n",
      " |  tuple(iterable=(), /)\n",
      " |\n",
      " |  Built-in immutable sequence.\n",
      " |\n",
      " |  If no argument is given, the constructor returns an empty tuple.\n",
      " |  If iterable is specified the tuple is initialized from iterable's items.\n",
      " |\n",
      " |  If the argument is a tuple, the return value is the same object.\n",
      " |\n",
      " |  Built-in subclasses:\n",
      " |      asyncgen_hooks\n",
      " |      MonthDayNano\n",
      " |      UnraisableHookArgs\n",
      " |\n",
      " |  Methods defined here:\n",
      " |\n",
      " |  __add__(self, value, /)\n",
      " |      Return self+value.\n",
      " |\n",
      " |  __contains__(self, key, /)\n",
      " |      Return bool(key in self).\n",
      " |\n",
      " |  __eq__(self, value, /)\n",
      " |      Return self==value.\n",
      " |\n",
      " |  __ge__(self, value, /)\n",
      " |      Return self>=value.\n",
      " |\n",
      " |  __getattribute__(self, name, /)\n",
      " |      Return getattr(self, name).\n",
      " |\n",
      " |  __getitem__(self, key, /)\n",
      " |      Return self[key].\n",
      " |\n",
      " |  __getnewargs__(self, /)\n",
      " |\n",
      " |  __gt__(self, value, /)\n",
      " |      Return self>value.\n",
      " |\n",
      " |  __hash__(self, /)\n",
      " |      Return hash(self).\n",
      " |\n",
      " |  __iter__(self, /)\n",
      " |      Implement iter(self).\n",
      " |\n",
      " |  __le__(self, value, /)\n",
      " |      Return self<=value.\n",
      " |\n",
      " |  __len__(self, /)\n",
      " |      Return len(self).\n",
      " |\n",
      " |  __lt__(self, value, /)\n",
      " |      Return self<value.\n",
      " |\n",
      " |  __mul__(self, value, /)\n",
      " |      Return self*value.\n",
      " |\n",
      " |  __ne__(self, value, /)\n",
      " |      Return self!=value.\n",
      " |\n",
      " |  __repr__(self, /)\n",
      " |      Return repr(self).\n",
      " |\n",
      " |  __rmul__(self, value, /)\n",
      " |      Return value*self.\n",
      " |\n",
      " |  count(self, value, /)\n",
      " |      Return number of occurrences of value.\n",
      " |\n",
      " |  index(self, value, start=0, stop=9223372036854775807, /)\n",
      " |      Return first index of value.\n",
      " |\n",
      " |      Raises ValueError if the value is not present.\n",
      " |\n",
      " |  ----------------------------------------------------------------------\n",
      " |  Class methods defined here:\n",
      " |\n",
      " |  __class_getitem__(...)\n",
      " |      See PEP 585\n",
      " |\n",
      " |  ----------------------------------------------------------------------\n",
      " |  Static methods defined here:\n",
      " |\n",
      " |  __new__(*args, **kwargs)\n",
      " |      Create and return a new object.  See help(type) for accurate signature.\n",
      "\n"
     ]
    }
   ],
   "source": [
    "help(tuple)"
   ]
  },
  {
   "cell_type": "markdown",
   "id": "56bda775-21bc-499d-9d03-34e796351abb",
   "metadata": {},
   "source": [
    "# Sets"
   ]
  },
  {
   "cell_type": "code",
   "execution_count": 6,
   "id": "38c1a0bf-338c-4dc6-a042-45cefe5a8ca5",
   "metadata": {},
   "outputs": [
    {
     "name": "stdout",
     "output_type": "stream",
     "text": [
      "{True, 10, 'hey', 23.4}\n"
     ]
    }
   ],
   "source": [
    "set_1 = {10,23.4,\"hey\",True}\n",
    "print(set_1)"
   ]
  },
  {
   "cell_type": "code",
   "execution_count": 9,
   "id": "9874b177-6beb-454e-95aa-ad0bbd5a5538",
   "metadata": {},
   "outputs": [
    {
     "name": "stdout",
     "output_type": "stream",
     "text": [
      "{40, 10, 20, 30}\n"
     ]
    }
   ],
   "source": [
    "set_2 = {10,20,20,30,40,30,40}\n",
    "print(set_2)"
   ]
  },
  {
   "cell_type": "code",
   "execution_count": 13,
   "id": "e28f675b-2085-4b59-8bc1-88cd69af0fe2",
   "metadata": {},
   "outputs": [],
   "source": [
    "List_empty = []\n",
    "tuple_empty = ()\n",
    "set_empty = set()"
   ]
  },
  {
   "cell_type": "code",
   "execution_count": 19,
   "id": "a006576c-8237-40f6-9248-34e2c9f44742",
   "metadata": {},
   "outputs": [
    {
     "name": "stdout",
     "output_type": "stream",
     "text": [
      "<class 'list'>\n",
      "<class 'tuple'>\n",
      "<class 'set'>\n"
     ]
    }
   ],
   "source": [
    "print(type(List_empty))\n",
    "print(type(tuple_empty))\n",
    "print(type(set_empty))"
   ]
  },
  {
   "cell_type": "markdown",
   "id": "ffc12d20-b1bb-4017-9edc-b84370d2e075",
   "metadata": {},
   "source": [
    "Sets:\n",
    "1. sets are unordered in nature\n",
    "2. does not follows indexing.\n",
    "3. Set elements are unique in nature.\n",
    "4. set when we want tot decalre as empty one we need to use buit in function set()\n",
    "\n",
    "Sets are mutable in nature and it only accepts primitive data types along with tuple in it"
   ]
  },
  {
   "cell_type": "code",
   "execution_count": 11,
   "id": "775b425c-54fc-4d79-afd6-fae8c86ceecb",
   "metadata": {},
   "outputs": [
    {
     "name": "stdout",
     "output_type": "stream",
     "text": [
      "Help on class set in module builtins:\n",
      "\n",
      "class set(object)\n",
      " |  set() -> new empty set object\n",
      " |  set(iterable) -> new set object\n",
      " |\n",
      " |  Build an unordered collection of unique elements.\n",
      " |\n",
      " |  Methods defined here:\n",
      " |\n",
      " |  __and__(self, value, /)\n",
      " |      Return self&value.\n",
      " |\n",
      " |  __contains__(...)\n",
      " |      x.__contains__(y) <==> y in x.\n",
      " |\n",
      " |  __eq__(self, value, /)\n",
      " |      Return self==value.\n",
      " |\n",
      " |  __ge__(self, value, /)\n",
      " |      Return self>=value.\n",
      " |\n",
      " |  __getattribute__(self, name, /)\n",
      " |      Return getattr(self, name).\n",
      " |\n",
      " |  __gt__(self, value, /)\n",
      " |      Return self>value.\n",
      " |\n",
      " |  __iand__(self, value, /)\n",
      " |      Return self&=value.\n",
      " |\n",
      " |  __init__(self, /, *args, **kwargs)\n",
      " |      Initialize self.  See help(type(self)) for accurate signature.\n",
      " |\n",
      " |  __ior__(self, value, /)\n",
      " |      Return self|=value.\n",
      " |\n",
      " |  __isub__(self, value, /)\n",
      " |      Return self-=value.\n",
      " |\n",
      " |  __iter__(self, /)\n",
      " |      Implement iter(self).\n",
      " |\n",
      " |  __ixor__(self, value, /)\n",
      " |      Return self^=value.\n",
      " |\n",
      " |  __le__(self, value, /)\n",
      " |      Return self<=value.\n",
      " |\n",
      " |  __len__(self, /)\n",
      " |      Return len(self).\n",
      " |\n",
      " |  __lt__(self, value, /)\n",
      " |      Return self<value.\n",
      " |\n",
      " |  __ne__(self, value, /)\n",
      " |      Return self!=value.\n",
      " |\n",
      " |  __or__(self, value, /)\n",
      " |      Return self|value.\n",
      " |\n",
      " |  __rand__(self, value, /)\n",
      " |      Return value&self.\n",
      " |\n",
      " |  __reduce__(...)\n",
      " |      Return state information for pickling.\n",
      " |\n",
      " |  __repr__(self, /)\n",
      " |      Return repr(self).\n",
      " |\n",
      " |  __ror__(self, value, /)\n",
      " |      Return value|self.\n",
      " |\n",
      " |  __rsub__(self, value, /)\n",
      " |      Return value-self.\n",
      " |\n",
      " |  __rxor__(self, value, /)\n",
      " |      Return value^self.\n",
      " |\n",
      " |  __sizeof__(...)\n",
      " |      S.__sizeof__() -> size of S in memory, in bytes\n",
      " |\n",
      " |  __sub__(self, value, /)\n",
      " |      Return self-value.\n",
      " |\n",
      " |  __xor__(self, value, /)\n",
      " |      Return self^value.\n",
      " |\n",
      " |  add(...)\n",
      " |      Add an element to a set.\n",
      " |\n",
      " |      This has no effect if the element is already present.\n",
      " |\n",
      " |  clear(...)\n",
      " |      Remove all elements from this set.\n",
      " |\n",
      " |  copy(...)\n",
      " |      Return a shallow copy of a set.\n",
      " |\n",
      " |  difference(...)\n",
      " |      Return the difference of two or more sets as a new set.\n",
      " |\n",
      " |      (i.e. all elements that are in this set but not the others.)\n",
      " |\n",
      " |  difference_update(...)\n",
      " |      Remove all elements of another set from this set.\n",
      " |\n",
      " |  discard(...)\n",
      " |      Remove an element from a set if it is a member.\n",
      " |\n",
      " |      Unlike set.remove(), the discard() method does not raise\n",
      " |      an exception when an element is missing from the set.\n",
      " |\n",
      " |  intersection(...)\n",
      " |      Return the intersection of two sets as a new set.\n",
      " |\n",
      " |      (i.e. all elements that are in both sets.)\n",
      " |\n",
      " |  intersection_update(...)\n",
      " |      Update a set with the intersection of itself and another.\n",
      " |\n",
      " |  isdisjoint(...)\n",
      " |      Return True if two sets have a null intersection.\n",
      " |\n",
      " |  issubset(self, other, /)\n",
      " |      Test whether every element in the set is in other.\n",
      " |\n",
      " |  issuperset(self, other, /)\n",
      " |      Test whether every element in other is in the set.\n",
      " |\n",
      " |  pop(...)\n",
      " |      Remove and return an arbitrary set element.\n",
      " |      Raises KeyError if the set is empty.\n",
      " |\n",
      " |  remove(...)\n",
      " |      Remove an element from a set; it must be a member.\n",
      " |\n",
      " |      If the element is not a member, raise a KeyError.\n",
      " |\n",
      " |  symmetric_difference(...)\n",
      " |      Return the symmetric difference of two sets as a new set.\n",
      " |\n",
      " |      (i.e. all elements that are in exactly one of the sets.)\n",
      " |\n",
      " |  symmetric_difference_update(...)\n",
      " |      Update a set with the symmetric difference of itself and another.\n",
      " |\n",
      " |  union(...)\n",
      " |      Return the union of sets as a new set.\n",
      " |\n",
      " |      (i.e. all elements that are in either set.)\n",
      " |\n",
      " |  update(...)\n",
      " |      Update a set with the union of itself and others.\n",
      " |\n",
      " |  ----------------------------------------------------------------------\n",
      " |  Class methods defined here:\n",
      " |\n",
      " |  __class_getitem__(...)\n",
      " |      See PEP 585\n",
      " |\n",
      " |  ----------------------------------------------------------------------\n",
      " |  Static methods defined here:\n",
      " |\n",
      " |  __new__(*args, **kwargs)\n",
      " |      Create and return a new object.  See help(type) for accurate signature.\n",
      " |\n",
      " |  ----------------------------------------------------------------------\n",
      " |  Data and other attributes defined here:\n",
      " |\n",
      " |  __hash__ = None\n",
      "\n"
     ]
    }
   ],
   "source": [
    "help(set)"
   ]
  },
  {
   "cell_type": "markdown",
   "id": "785b7d7c-3bef-4ead-b758-c5968a113c12",
   "metadata": {},
   "source": [
    "# Dictionary:"
   ]
  },
  {
   "cell_type": "code",
   "execution_count": 23,
   "id": "86dbe5d8-c49a-40e6-9e19-89a2ca9b3e23",
   "metadata": {},
   "outputs": [],
   "source": [
    "dict_1 = {\"name\":\"Siddharth\",\"study\":\"BE-ISE\",\"age\":22}"
   ]
  },
  {
   "cell_type": "code",
   "execution_count": 25,
   "id": "ba4dcffa-b547-4205-a9fa-d28e3c1853b8",
   "metadata": {},
   "outputs": [
    {
     "name": "stdout",
     "output_type": "stream",
     "text": [
      "{'name': 'Siddharth', 'study': 'BE-ISE', 'age': 22}\n"
     ]
    }
   ],
   "source": [
    "print(dict_1)"
   ]
  },
  {
   "cell_type": "code",
   "execution_count": 27,
   "id": "4d70b1ec-8bfe-4e10-8202-fb4313130485",
   "metadata": {},
   "outputs": [
    {
     "data": {
      "text/plain": [
       "dict_keys(['name', 'study', 'age'])"
      ]
     },
     "execution_count": 27,
     "metadata": {},
     "output_type": "execute_result"
    }
   ],
   "source": [
    "dict_1.keys()"
   ]
  },
  {
   "cell_type": "code",
   "execution_count": 29,
   "id": "51a418e5-33e9-4a25-a488-15a73649c0b6",
   "metadata": {},
   "outputs": [
    {
     "data": {
      "text/plain": [
       "dict_values(['Siddharth', 'BE-ISE', 22])"
      ]
     },
     "execution_count": 29,
     "metadata": {},
     "output_type": "execute_result"
    }
   ],
   "source": [
    "dict_1.values()"
   ]
  },
  {
   "cell_type": "code",
   "execution_count": 33,
   "id": "83d125aa-242a-40ce-9046-93a15638d62a",
   "metadata": {},
   "outputs": [
    {
     "data": {
      "text/plain": [
       "dict"
      ]
     },
     "execution_count": 33,
     "metadata": {},
     "output_type": "execute_result"
    }
   ],
   "source": [
    "type(dict_1)"
   ]
  },
  {
   "cell_type": "markdown",
   "id": "3b069a68-fefb-4c6b-b51c-6301d1ec2071",
   "metadata": {},
   "source": [
    "Dict:\n",
    "1.Dict is a combination of different key value pairs.\n",
    "2. there are different properties for the keys and values of thte dict.\n",
    "keys:\n",
    "    1.Keys only accept primitive data types and tuples in it.\n",
    "    2.keys are imutable\n",
    "    3.keys are unique.\n",
    "values:\n",
    "    1.we can declare any data types for the values\n",
    "    2.values can be duplicated\n",
    "    3.values are mutable in nature\n",
    "\n",
    "Dictionary are mutable in nature."
   ]
  },
  {
   "cell_type": "code",
   "execution_count": 38,
   "id": "a49afd88-0d73-49d4-93f5-15f69318a791",
   "metadata": {},
   "outputs": [
    {
     "data": {
      "text/plain": [
       "'Siddharth'"
      ]
     },
     "execution_count": 38,
     "metadata": {},
     "output_type": "execute_result"
    }
   ],
   "source": [
    "dict_1[\"name\"]"
   ]
  },
  {
   "cell_type": "code",
   "execution_count": 40,
   "id": "abbeb2cf-33f7-41e6-85d5-607e31ffd6e0",
   "metadata": {},
   "outputs": [
    {
     "data": {
      "text/plain": [
       "22"
      ]
     },
     "execution_count": 40,
     "metadata": {},
     "output_type": "execute_result"
    }
   ],
   "source": [
    "dict_1[\"age\"]"
   ]
  },
  {
   "cell_type": "code",
   "execution_count": 44,
   "id": "6c999816-e7bb-4702-9842-570aa404291e",
   "metadata": {},
   "outputs": [],
   "source": [
    "dict_1[\"name\"]=\"sid\""
   ]
  },
  {
   "cell_type": "code",
   "execution_count": 46,
   "id": "1e84f4de-e4cc-4ff7-ac64-c0ace1372428",
   "metadata": {},
   "outputs": [
    {
     "name": "stdout",
     "output_type": "stream",
     "text": [
      "{'name': 'sid', 'study': 'BE-ISE', 'age': 22}\n"
     ]
    }
   ],
   "source": [
    "print(dict_1)"
   ]
  },
  {
   "cell_type": "code",
   "execution_count": 52,
   "id": "7f9daaaa-dbe7-4917-8a50-66702ec82d11",
   "metadata": {},
   "outputs": [],
   "source": [
    "#add elemtsnr\n",
    "dict_1[\"college\"] = [\"AMCEC\"]"
   ]
  },
  {
   "cell_type": "code",
   "execution_count": 54,
   "id": "3cb6b96b-2e63-48cc-9194-626959c21dcb",
   "metadata": {},
   "outputs": [
    {
     "name": "stdout",
     "output_type": "stream",
     "text": [
      "{'name': 'sid', 'study': 'BE-ISE', 'age': 22, 'college': ['AMCEC']}\n"
     ]
    }
   ],
   "source": [
    "print(dict_1)"
   ]
  },
  {
   "cell_type": "code",
   "execution_count": null,
   "id": "01c9a9e8-61dc-47df-ae59-e4d73ff4b3e2",
   "metadata": {},
   "outputs": [],
   "source": []
  }
 ],
 "metadata": {
  "kernelspec": {
   "display_name": "Python 3 (ipykernel)",
   "language": "python",
   "name": "python3"
  },
  "language_info": {
   "codemirror_mode": {
    "name": "ipython",
    "version": 3
   },
   "file_extension": ".py",
   "mimetype": "text/x-python",
   "name": "python",
   "nbconvert_exporter": "python",
   "pygments_lexer": "ipython3",
   "version": "3.12.4"
  }
 },
 "nbformat": 4,
 "nbformat_minor": 5
}
