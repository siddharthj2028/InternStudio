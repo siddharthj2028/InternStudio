{
 "cells": [
  {
   "cell_type": "code",
   "execution_count": 1,
   "id": "99c9c4f2-044c-43c6-a04d-d03054b5d9d3",
   "metadata": {},
   "outputs": [],
   "source": [
    "import numpy as np"
   ]
  },
  {
   "cell_type": "code",
   "execution_count": 31,
   "id": "421a27e8-bafb-4cb6-a18e-b719c8efb0fd",
   "metadata": {},
   "outputs": [],
   "source": [
    "at = np.array([1,2,3])\n"
   ]
  },
  {
   "cell_type": "code",
   "execution_count": 33,
   "id": "6e69d787-242c-4d5e-ad11-1f1e8152d765",
   "metadata": {},
   "outputs": [
    {
     "name": "stdout",
     "output_type": "stream",
     "text": [
      "the number of elements in array 3\n"
     ]
    }
   ],
   "source": [
    "print(f\"the number of elements in array {at.size}\")"
   ]
  },
  {
   "cell_type": "code",
   "execution_count": 35,
   "id": "3a435a17-06b6-4d4a-98e5-65c68af12c85",
   "metadata": {},
   "outputs": [
    {
     "data": {
      "text/plain": [
       "3"
      ]
     },
     "execution_count": 35,
     "metadata": {},
     "output_type": "execute_result"
    }
   ],
   "source": [
    "at.size"
   ]
  },
  {
   "cell_type": "code",
   "execution_count": 37,
   "id": "19b1147a-aa97-4a60-aad7-d22e108121d4",
   "metadata": {},
   "outputs": [
    {
     "data": {
      "text/plain": [
       "1"
      ]
     },
     "execution_count": 37,
     "metadata": {},
     "output_type": "execute_result"
    }
   ],
   "source": [
    "at.ndim"
   ]
  },
  {
   "cell_type": "code",
   "execution_count": 39,
   "id": "ec98ed6b-dec8-4ebb-b649-28704f45ca55",
   "metadata": {},
   "outputs": [
    {
     "data": {
      "text/plain": [
       "(3,)"
      ]
     },
     "execution_count": 39,
     "metadata": {},
     "output_type": "execute_result"
    }
   ],
   "source": [
    "at.shape"
   ]
  },
  {
   "cell_type": "code",
   "execution_count": 41,
   "id": "51775c4b-047a-45c0-a712-741cfcfa6d6d",
   "metadata": {},
   "outputs": [
    {
     "data": {
      "text/plain": [
       "dtype('int32')"
      ]
     },
     "execution_count": 41,
     "metadata": {},
     "output_type": "execute_result"
    }
   ],
   "source": [
    "at.dtype"
   ]
  },
  {
   "cell_type": "code",
   "execution_count": 43,
   "id": "d77d7517-888e-43e6-a8c4-baecfe7b1bb6",
   "metadata": {},
   "outputs": [
    {
     "name": "stdout",
     "output_type": "stream",
     "text": [
      "[2 3 4]\n",
      "int32\n"
     ]
    }
   ],
   "source": [
    "ds = np.array([2,3,4])\n",
    "print(ds)\n",
    "print(ds.dtype)"
   ]
  },
  {
   "cell_type": "code",
   "execution_count": 45,
   "id": "0e4cd15a-35bc-49be-99b6-527af01f92e5",
   "metadata": {},
   "outputs": [
    {
     "name": "stdout",
     "output_type": "stream",
     "text": [
      "[2. 3. 4.]\n"
     ]
    }
   ],
   "source": [
    "ds_ = ds.astype('float64')\n",
    "print(ds_)"
   ]
  },
  {
   "cell_type": "code",
   "execution_count": 47,
   "id": "e5b8198e-5fb3-48a8-8ffd-08e6105390cf",
   "metadata": {},
   "outputs": [
    {
     "name": "stdout",
     "output_type": "stream",
     "text": [
      "float64\n"
     ]
    }
   ],
   "source": [
    "print(ds_.dtype)"
   ]
  },
  {
   "cell_type": "code",
   "execution_count": 51,
   "id": "b74bc63f-8cc8-4b68-8630-9dec7aa9fa06",
   "metadata": {},
   "outputs": [
    {
     "name": "stdout",
     "output_type": "stream",
     "text": [
      "int32\n",
      "float64\n"
     ]
    }
   ],
   "source": [
    "print(ds.dtype)\n",
    "print(ds_.dtype)"
   ]
  },
  {
   "cell_type": "code",
   "execution_count": 75,
   "id": "2cbcb515-3116-489d-a806-4f1fec7fb014",
   "metadata": {},
   "outputs": [
    {
     "name": "stdout",
     "output_type": "stream",
     "text": [
      "[b'2' b'3' b'4']\n"
     ]
    }
   ],
   "source": [
    "ds_ = ds.astype('string_')\n",
    "print(ds_) "
   ]
  },
  {
   "cell_type": "code",
   "execution_count": 73,
   "id": "b2f259bd-6606-462b-9f06-bf876600ffcd",
   "metadata": {},
   "outputs": [
    {
     "name": "stdout",
     "output_type": "stream",
     "text": [
      "|S11\n"
     ]
    }
   ],
   "source": [
    "print(ds_.dtype)"
   ]
  },
  {
   "cell_type": "code",
   "execution_count": null,
   "id": "fc33a9d6-c333-4bb1-83f4-aedfaf3fe1d6",
   "metadata": {},
   "outputs": [],
   "source": []
  }
 ],
 "metadata": {
  "kernelspec": {
   "display_name": "Python 3 (ipykernel)",
   "language": "python",
   "name": "python3"
  },
  "language_info": {
   "codemirror_mode": {
    "name": "ipython",
    "version": 3
   },
   "file_extension": ".py",
   "mimetype": "text/x-python",
   "name": "python",
   "nbconvert_exporter": "python",
   "pygments_lexer": "ipython3",
   "version": "3.12.4"
  }
 },
 "nbformat": 4,
 "nbformat_minor": 5
}
