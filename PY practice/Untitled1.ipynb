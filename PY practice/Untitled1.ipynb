{
 "cells": [
  {
   "cell_type": "code",
   "execution_count": 5,
   "id": "e689e95c-6b61-4190-81b3-fa855688a3eb",
   "metadata": {},
   "outputs": [
    {
     "name": "stdin",
     "output_type": "stream",
     "text": [
      " 3\n",
      " Krishna 67 68 69\n",
      " Arjun 70 98 63\n",
      " Malika 52 56 60\n",
      " Malika\n"
     ]
    },
    {
     "name": "stdout",
     "output_type": "stream",
     "text": [
      "56.00\n"
     ]
    }
   ],
   "source": [
    "if __name__ == '__main__':\n",
    "    n = int(input())\n",
    "    student_marks = {}\n",
    "    for _ in range(n):\n",
    "        name, *line = input().split()\n",
    "        scores = list(map(float, line))\n",
    "        student_marks[name] = scores\n",
    "    query_name = input()\n",
    "    avg_score = sum(student_marks[query_name]) / len(student_marks[query_name])\n",
    "    print(f'{avg_score:.2f}')"
   ]
  },
  {
   "cell_type": "code",
   "execution_count": 7,
   "id": "d2192583-3391-4ba2-9aa0-a2e96b9ff83b",
   "metadata": {},
   "outputs": [],
   "source": [
    "from collections import defaultdict\n",
    "d = defaultdict(list)\n",
    "d['python'].append(\"awesome\")\n",
    "d['somethig-else'].append(\"not relevant\")\n",
    "d['python'].append(\"lol\")"
   ]
  },
  {
   "cell_type": "code",
   "execution_count": 9,
   "id": "4cf10dcf-01c2-4f42-8607-454cdf8068af",
   "metadata": {},
   "outputs": [
    {
     "name": "stdout",
     "output_type": "stream",
     "text": [
      "defaultdict(<class 'list'>, {'python': ['awesome', 'lol'], 'somethig-else': ['not relevant']})\n"
     ]
    }
   ],
   "source": [
    "print(d)"
   ]
  },
  {
   "cell_type": "code",
   "execution_count": 13,
   "id": "4ded7717-466a-4b7e-b0ed-02eb0e716397",
   "metadata": {},
   "outputs": [
    {
     "name": "stdout",
     "output_type": "stream",
     "text": [
      "('python', ['awesome', 'lol'])\n",
      "('somethig-else', ['not relevant'])\n"
     ]
    }
   ],
   "source": [
    "for i in d.items():\n",
    "    print (i)"
   ]
  },
  {
   "cell_type": "code",
   "execution_count": 27,
   "id": "53abe4a7-5e24-4bb5-94e1-9565c75eaae3",
   "metadata": {},
   "outputs": [
    {
     "name": "stdout",
     "output_type": "stream",
     "text": [
      "car(price=10000, milage=1332, color='blue', Class='y')\n"
     ]
    },
    {
     "data": {
      "text/plain": [
       "'y'"
      ]
     },
     "execution_count": 27,
     "metadata": {},
     "output_type": "execute_result"
    }
   ],
   "source": [
    "from collections import namedtuple\n",
    "car = namedtuple('car','price milage color Class')\n",
    "xyz = car(price = 10000,milage=1332,color=\"blue\",Class=\"y\")\n",
    "print (xyz)\n",
    "xyz.Class"
   ]
  },
  {
   "cell_type": "code",
   "execution_count": 9,
   "id": "f725e8ef-aaed-435d-b320-d171612e1c9d",
   "metadata": {},
   "outputs": [
    {
     "name": "stdin",
     "output_type": "stream",
     "text": [
      " 2\n",
      " MARKS NAME ID CLASS\n"
     ]
    },
    {
     "name": "stdout",
     "output_type": "stream",
     "text": [
      "['MARKS', 'NAME', 'ID', 'CLASS']\n"
     ]
    },
    {
     "name": "stdin",
     "output_type": "stream",
     "text": [
      " 34 dfs 44 2\n",
      " 234 sd 34 2\n"
     ]
    },
    {
     "name": "stdout",
     "output_type": "stream",
     "text": [
      "134.00\n"
     ]
    }
   ],
   "source": [
    "from collections import namedtuple\n",
    "\n",
    "n = int(input())\n",
    "coloumns = input().split()\n",
    "student = namedtuple('student', coloumns)\n",
    "print(coloumns)\n",
    "\n",
    "total_marks = 0\n",
    "\n",
    "for _ in range(n):\n",
    "    data = input().split()\n",
    "    Student = student(*data)\n",
    "    total_marks += int(Student.MARKS)\n",
    "\n",
    "average_marks = total_marks / n\n",
    "print(f\"{average_marks:.2f}\")\n"
   ]
  },
  {
   "cell_type": "code",
   "execution_count": null,
   "id": "f672e4fb-c333-4c32-9da3-11e1921aee86",
   "metadata": {},
   "outputs": [],
   "source": []
  },
  {
   "cell_type": "code",
   "execution_count": null,
   "id": "593bb208-3c85-4b78-a0a5-5cd82114fd3c",
   "metadata": {},
   "outputs": [],
   "source": []
  }
 ],
 "metadata": {
  "kernelspec": {
   "display_name": "Python 3 (ipykernel)",
   "language": "python",
   "name": "python3"
  },
  "language_info": {
   "codemirror_mode": {
    "name": "ipython",
    "version": 3
   },
   "file_extension": ".py",
   "mimetype": "text/x-python",
   "name": "python",
   "nbconvert_exporter": "python",
   "pygments_lexer": "ipython3",
   "version": "3.12.4"
  }
 },
 "nbformat": 4,
 "nbformat_minor": 5
}
