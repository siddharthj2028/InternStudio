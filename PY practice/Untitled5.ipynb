{
 "cells": [
  {
   "cell_type": "code",
   "execution_count": null,
   "id": "716bbab7-7fb6-405c-91fa-36afbbf8b126",
   "metadata": {},
   "outputs": [],
   "source": [
    "import math\n",
    "n = int(input())\n",
    "arr = list(map(int,input().split()))\n",
    "\n",
    "mean = sum(arr)/n\n",
    "\n",
    "sqd_diff_sum = 0\n",
    "for i in range(n):\n",
    "    diff = arr[i] - mean\n",
    "    sqd_diff_sum += diff **2\n",
    "    \n",
    "std_div = math.sqrt(sqd_diff_sum/n)\n",
    "print(f'std_div.2f')"
   ]
  },
  {
   "cell_type": "code",
   "execution_count": null,
   "id": "780ba0e6-8cff-490a-aa32-7b2c032be991",
   "metadata": {},
   "outputs": [],
   "source": []
  }
 ],
 "metadata": {
  "kernelspec": {
   "display_name": "Python 3 (ipykernel)",
   "language": "python",
   "name": "python3"
  },
  "language_info": {
   "codemirror_mode": {
    "name": "ipython",
    "version": 3
   },
   "file_extension": ".py",
   "mimetype": "text/x-python",
   "name": "python",
   "nbconvert_exporter": "python",
   "pygments_lexer": "ipython3",
   "version": "3.12.4"
  }
 },
 "nbformat": 4,
 "nbformat_minor": 5
}
