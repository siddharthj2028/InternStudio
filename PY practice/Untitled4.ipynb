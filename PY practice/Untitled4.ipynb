{
 "cells": [
  {
   "cell_type": "code",
   "execution_count": 1,
   "id": "16f2205e-36b8-48bf-9118-507e7531cdfb",
   "metadata": {},
   "outputs": [
    {
     "name": "stdout",
     "output_type": "stream",
     "text": [
      "Collecting instaloader\n",
      "  Downloading instaloader-4.14.1-py3-none-any.whl.metadata (6.7 kB)\n",
      "Requirement already satisfied: requests>=2.25 in c:\\users\\siddh\\anaconda3\\lib\\site-packages (from instaloader) (2.32.2)\n",
      "Requirement already satisfied: charset-normalizer<4,>=2 in c:\\users\\siddh\\anaconda3\\lib\\site-packages (from requests>=2.25->instaloader) (2.0.4)\n",
      "Requirement already satisfied: idna<4,>=2.5 in c:\\users\\siddh\\anaconda3\\lib\\site-packages (from requests>=2.25->instaloader) (3.7)\n",
      "Requirement already satisfied: urllib3<3,>=1.21.1 in c:\\users\\siddh\\anaconda3\\lib\\site-packages (from requests>=2.25->instaloader) (2.2.2)\n",
      "Requirement already satisfied: certifi>=2017.4.17 in c:\\users\\siddh\\anaconda3\\lib\\site-packages (from requests>=2.25->instaloader) (2024.7.4)\n",
      "Downloading instaloader-4.14.1-py3-none-any.whl (67 kB)\n",
      "   ---------------------------------------- 0.0/67.9 kB ? eta -:--:--\n",
      "   ------------------ --------------------- 30.7/67.9 kB 1.4 MB/s eta 0:00:01\n",
      "   ------------------ --------------------- 30.7/67.9 kB 1.4 MB/s eta 0:00:01\n",
      "   ------------------ --------------------- 30.7/67.9 kB 1.4 MB/s eta 0:00:01\n",
      "   ------------------ --------------------- 30.7/67.9 kB 1.4 MB/s eta 0:00:01\n",
      "   ------------------ --------------------- 30.7/67.9 kB 1.4 MB/s eta 0:00:01\n",
      "   ------------------ --------------------- 30.7/67.9 kB 1.4 MB/s eta 0:00:01\n",
      "   ------------------ --------------------- 30.7/67.9 kB 1.4 MB/s eta 0:00:01\n",
      "   ------------------ --------------------- 30.7/67.9 kB 1.4 MB/s eta 0:00:01\n",
      "   ------------------ --------------------- 30.7/67.9 kB 1.4 MB/s eta 0:00:01\n",
      "   ------------------ --------------------- 30.7/67.9 kB 1.4 MB/s eta 0:00:01\n",
      "   ------------------ --------------------- 30.7/67.9 kB 1.4 MB/s eta 0:00:01\n",
      "   ------------------------ --------------- 41.0/67.9 kB 54.7 kB/s eta 0:00:01\n",
      "   ---------------------------------------- 67.9/67.9 kB 102.6 kB/s eta 0:00:00\n",
      "Installing collected packages: instaloader\n",
      "Successfully installed instaloader-4.14.1\n",
      "Note: you may need to restart the kernel to use updated packages.\n"
     ]
    }
   ],
   "source": [
    "pip install instaloader\n"
   ]
  },
  {
   "cell_type": "code",
   "execution_count": 3,
   "id": "2b5e098b-c57b-4ecd-9c2e-c09a88c49745",
   "metadata": {},
   "outputs": [
    {
     "name": "stdout",
     "output_type": "stream",
     "text": [
      "4.14.1\n"
     ]
    }
   ],
   "source": [
    "import instaloader\n",
    "print(instaloader.__version__)"
   ]
  },
  {
   "cell_type": "code",
   "execution_count": 5,
   "id": "14b1ef07-1d86-4438-a768-47c6f3747e2b",
   "metadata": {},
   "outputs": [
    {
     "name": "stdout",
     "output_type": "stream",
     "text": [
      "Profile: shr_eya28, Private: True\n",
      "Searching public posts mentioning @shr_eya28...\n"
     ]
    },
    {
     "name": "stderr",
     "output_type": "stream",
     "text": [
      "JSON Query to api/v1/tags/web_info/: 403 Forbidden - \"fail\" status, message \"login_required\" when accessing https://i.instagram.com/api/v1/tags/web_info/?__a=1&__d=dis&tag_name=shr_eya28 [retrying; skip with ^C]\n",
      "JSON Query to api/v1/tags/web_info/: 403 Forbidden - \"fail\" status, message \"login_required\" when accessing https://i.instagram.com/api/v1/tags/web_info/?__a=1&__d=dis&tag_name=shr_eya28 [retrying; skip with ^C]\n"
     ]
    },
    {
     "name": "stdout",
     "output_type": "stream",
     "text": [
      "An error occurred: JSON Query to api/v1/tags/web_info/: 403 Forbidden - \"fail\" status, message \"login_required\" when accessing https://i.instagram.com/api/v1/tags/web_info/?__a=1&__d=dis&tag_name=shr_eya28\n"
     ]
    }
   ],
   "source": [
    "import instaloader\n",
    "\n",
    "# Initialize Instaloader\n",
    "L = instaloader.Instaloader()\n",
    "\n",
    "# Target private username\n",
    "username = \"shr_eya28\"  # Replace with your target private Instagram handle\n",
    "\n",
    "try:\n",
    "    # Load the profile to confirm it exists\n",
    "    profile = instaloader.Profile.from_username(L.context, username)\n",
    "    print(f\"Profile: {username}, Private: {profile.is_private}\")\n",
    "\n",
    "    # Since it's private, we can't access its posts or tagged posts directly\n",
    "    # Search public posts mentioning the username (e.g., \"@private_username\")\n",
    "    print(f\"Searching public posts mentioning @{username}...\")\n",
    "    \n",
    "    # Use hashtag-like search (not true tagging, but a proxy)\n",
    "    posts_data = []\n",
    "    for post in instaloader.Hashtag.from_name(L.context, username).get_posts():\n",
    "        # Check if the username is in the caption\n",
    "        if post.caption and f\"@{username}\" in post.caption.lower():\n",
    "            post_info = {\n",
    "                \"date\": str(post.date),\n",
    "                \"caption\": post.caption,\n",
    "                \"likes\": post.likes,\n",
    "                \"url\": post.url,\n",
    "                \"posted_by\": post.owner_username\n",
    "            }\n",
    "            posts_data.append(post_info)\n",
    "            print(f\"Found post by {post.owner_username}: {post.caption}\")\n",
    "            print(f\"URL: {post.url}\")\n",
    "            print(\"---\")\n",
    "\n",
    "    # Save results (optional)\n",
    "    if posts_data:\n",
    "        import json\n",
    "        with open(f\"{username}_tagged_mentions.json\", \"w\") as f:\n",
    "            json.dump(posts_data, f, indent=4)\n",
    "        print(f\"Saved {len(posts_data)} posts to {username}_tagged_mentions.json\")\n",
    "    else:\n",
    "        print(f\"No public posts found mentioning @{username}.\")\n",
    "\n",
    "except Exception as e:\n",
    "    print(f\"An error occurred: {e}\")"
   ]
  },
  {
   "cell_type": "code",
   "execution_count": 7,
   "id": "0d03e133-5d67-4ff1-90af-3e56ac7bdadf",
   "metadata": {},
   "outputs": [
    {
     "name": "stdout",
     "output_type": "stream",
     "text": [
      "Profile: shr_eya28, Private: True\n",
      "Attempting to find public mentions of @shr_eya28 (limited results)...\n"
     ]
    },
    {
     "name": "stderr",
     "output_type": "stream",
     "text": [
      "JSON Query to api/v1/tags/web_info/: 403 Forbidden - \"fail\" status, message \"login_required\" when accessing https://i.instagram.com/api/v1/tags/web_info/?__a=1&__d=dis&tag_name=popular [retrying; skip with ^C]\n",
      "JSON Query to api/v1/tags/web_info/: 403 Forbidden - \"fail\" status, message \"login_required\" when accessing https://i.instagram.com/api/v1/tags/web_info/?__a=1&__d=dis&tag_name=popular [retrying; skip with ^C]\n"
     ]
    },
    {
     "name": "stdout",
     "output_type": "stream",
     "text": [
      "An error occurred: JSON Query to api/v1/tags/web_info/: 403 Forbidden - \"fail\" status, message \"login_required\" when accessing https://i.instagram.com/api/v1/tags/web_info/?__a=1&__d=dis&tag_name=popular\n"
     ]
    }
   ],
   "source": [
    "import instaloader\n",
    "\n",
    "# Initialize Instaloader without login\n",
    "L = instaloader.Instaloader()\n",
    "\n",
    "# Target private username\n",
    "username = \"shr_eya28\"\n",
    "\n",
    "try:\n",
    "    # Load the profile to confirm it exists\n",
    "    profile = instaloader.Profile.from_username(L.context, username)\n",
    "    print(f\"Profile: {username}, Private: {profile.is_private}\")\n",
    "\n",
    "    # Since hashtag search requires login, manually check public posts (limited scope)\n",
    "    print(f\"Attempting to find public mentions of @{username} (limited results)...\")\n",
    "    posts_data = []\n",
    "    \n",
    "    # Fallback: Scrape recent public posts from a broad hashtag and filter\n",
    "    # Replace \"popular\" with a relevant public hashtag (e.g., \"photography\")\n",
    "    for post in instaloader.Hashtag.from_name(L.context, \"popular\").get_posts():\n",
    "        if post.caption and f\"@{username}\" in post.caption.lower():\n",
    "            post_info = {\n",
    "                \"date\": str(post.date),\n",
    "                \"caption\": post.caption,\n",
    "                \"likes\": post.likes,\n",
    "                \"url\": post.url,\n",
    "                \"posted_by\": post.owner_username\n",
    "            }\n",
    "            posts_data.append(post_info)\n",
    "            print(f\"Found post by {post.owner_username}: {post.caption}\")\n",
    "            print(f\"URL: {post.url}\")\n",
    "            print(\"---\")\n",
    "        # Limit to avoid excessive scraping\n",
    "        if len(posts_data) >= 10:  # Stop after 10 matches\n",
    "            break\n",
    "\n",
    "    if posts_data:\n",
    "        import json\n",
    "        with open(f\"{username}_tagged_mentions.json\", \"w\") as f:\n",
    "            json.dump(posts_data, f, indent=4)\n",
    "        print(f\"Saved {len(posts_data)} posts to {username}_tagged_mentions.json\")\n",
    "    else:\n",
    "        print(f\"No public posts found mentioning @{username} in this sample.\")\n",
    "\n",
    "except Exception as e:\n",
    "    print(f\"An error occurred: {e}\")"
   ]
  },
  {
   "cell_type": "code",
   "execution_count": 11,
   "id": "7ee41312-6b23-4821-8c0d-bfc51535fa31",
   "metadata": {},
   "outputs": [
    {
     "name": "stdout",
     "output_type": "stream",
     "text": [
      "Logged in successfully!\n",
      "Profile: shr_eya28, Private: True\n",
      "Searching public posts mentioning @shr_eya28...\n"
     ]
    },
    {
     "name": "stderr",
     "output_type": "stream",
     "text": [
      "JSON Query to api/v1/tags/web_info/: 403 Forbidden - \"fail\" status, message \"login_required\" when accessing https://i.instagram.com/api/v1/tags/web_info/?__a=1&__d=dis&tag_name=shr_eya28 [retrying; skip with ^C]\n",
      "JSON Query to api/v1/tags/web_info/: 403 Forbidden - \"fail\" status, message \"login_required\" when accessing https://i.instagram.com/api/v1/tags/web_info/?__a=1&__d=dis&tag_name=shr_eya28 [retrying; skip with ^C]\n"
     ]
    },
    {
     "name": "stdout",
     "output_type": "stream",
     "text": [
      "An error occurred: JSON Query to api/v1/tags/web_info/: 403 Forbidden - \"fail\" status, message \"login_required\" when accessing https://i.instagram.com/api/v1/tags/web_info/?__a=1&__d=dis&tag_name=shr_eya28\n"
     ]
    }
   ],
   "source": [
    "import instaloader\n",
    "\n",
    "# Initialize Instaloader\n",
    "L = instaloader.Instaloader()\n",
    "\n",
    "# Login credentials\n",
    "USERNAME = \"sssuuuuiiliii\"  # Replace with your Instagram username\n",
    "PASSWORD = \"Siddharth@2020\"  # Replace with your Instagram password\n",
    "try:\n",
    "    L.login(USERNAME, PASSWORD)\n",
    "    print(\"Logged in successfully!\")\n",
    "except Exception as e:\n",
    "    print(f\"Login failed: {e}\")\n",
    "    raise  # Stop if login fails\n",
    "\n",
    "# Target private username\n",
    "username = \"shr_eya28\"\n",
    "\n",
    "try:\n",
    "    # Load the profile to confirm it exists\n",
    "    profile = instaloader.Profile.from_username(L.context, username)\n",
    "    print(f\"Profile: {username}, Private: {profile.is_private}\")\n",
    "\n",
    "    # Search public posts mentioning the username\n",
    "    print(f\"Searching public posts mentioning @{username}...\")\n",
    "    \n",
    "    # Use hashtag-like search with login\n",
    "    posts_data = []\n",
    "    hashtag = instaloader.Hashtag.from_name(L.context, username)\n",
    "    for post in hashtag.get_posts():\n",
    "        if post.caption and f\"@{username}\" in post.caption.lower():\n",
    "            post_info = {\n",
    "                \"date\": str(post.date),\n",
    "                \"caption\": post.caption,\n",
    "                \"likes\": post.likes,\n",
    "                \"url\": post.url,\n",
    "                \"posted_by\": post.owner_username\n",
    "            }\n",
    "            posts_data.append(post_info)\n",
    "            print(f\"Found post by {post.owner_username}: {post.caption}\")\n",
    "            print(f\"URL: {post.url}\")\n",
    "            print(\"---\")\n",
    "        # Optional: Limit results to avoid overloading\n",
    "        if len(posts_data) >= 10:  # Stop after 10 matches\n",
    "            break\n",
    "\n",
    "    # Save results\n",
    "    if posts_data:\n",
    "        import json\n",
    "        with open(f\"{username}_tagged_mentions.json\", \"w\") as f:\n",
    "            json.dump(posts_data, f, indent=4)\n",
    "        print(f\"Saved {len(posts_data)} posts to {username}_tagged_mentions.json\")\n",
    "    else:\n",
    "        print(f\"No public posts found mentioning @{username}.\")\n",
    "\n",
    "except Exception as e:\n",
    "    print(f\"An error occurred: {e}\")"
   ]
  },
  {
   "cell_type": "code",
   "execution_count": 15,
   "id": "78a0a3c3-ffe5-4286-9a2a-2204df38f97c",
   "metadata": {},
   "outputs": [
    {
     "name": "stdout",
     "output_type": "stream",
     "text": [
      "Logged in successfully!\n",
      "Logged-in user: sssuuuuiiliii, Followers: 12\n"
     ]
    }
   ],
   "source": [
    "import instaloader\n",
    "\n",
    "# Initialize Instaloader\n",
    "L = instaloader.Instaloader()\n",
    "\n",
    "# Login credentials\n",
    "USERNAME = \"sssuuuuiiliii\"  # Replace with your username\n",
    "PASSWORD = \"Siddharth@2020\"  # Replace with your password\n",
    "try:\n",
    "    L.login(USERNAME, PASSWORD)\n",
    "    print(\"Logged in successfully!\")\n",
    "except Exception as e:\n",
    "    print(f\"Login failed: {e}\")\n",
    "    raise\n",
    "\n",
    "# Test login by fetching your own profile\n",
    "try:\n",
    "    profile = instaloader.Profile.from_username(L.context, USERNAME)\n",
    "    print(f\"Logged-in user: {profile.username}, Followers: {profile.followers}\")\n",
    "except Exception as e:\n",
    "    print(f\"Error testing login: {e}\")"
   ]
  },
  {
   "cell_type": "code",
   "execution_count": 19,
   "id": "2496fb78-402e-48ea-ab28-7eb15d9d6334",
   "metadata": {},
   "outputs": [
    {
     "name": "stdout",
     "output_type": "stream",
     "text": [
      "Logged in successfully!\n",
      "Profile: shr_eya28, Private: True\n",
      "Searching public posts for mentions of @shr_eya28 in #friends...\n"
     ]
    },
    {
     "name": "stderr",
     "output_type": "stream",
     "text": [
      "JSON Query to api/v1/tags/web_info/: 403 Forbidden - \"fail\" status, message \"login_required\" when accessing https://i.instagram.com/api/v1/tags/web_info/?__a=1&__d=dis&tag_name=friends [retrying; skip with ^C]\n",
      "JSON Query to api/v1/tags/web_info/: 403 Forbidden - \"fail\" status, message \"login_required\" when accessing https://i.instagram.com/api/v1/tags/web_info/?__a=1&__d=dis&tag_name=friends [retrying; skip with ^C]\n"
     ]
    },
    {
     "name": "stdout",
     "output_type": "stream",
     "text": [
      "An error occurred: JSON Query to api/v1/tags/web_info/: 403 Forbidden - \"fail\" status, message \"login_required\" when accessing https://i.instagram.com/api/v1/tags/web_info/?__a=1&__d=dis&tag_name=friends\n"
     ]
    }
   ],
   "source": [
    "import instaloader\n",
    "\n",
    "# Initialize Instaloader\n",
    "L = instaloader.Instaloader()\n",
    "\n",
    "# Login credentials\n",
    "USERNAME = \"sssuuuuiiliii\"  # Replace with your username\n",
    "PASSWORD = \"Siddharth@2020\"  # Replace with your password\n",
    "try:\n",
    "    L.login(USERNAME, PASSWORD)\n",
    "    print(\"Logged in successfully!\")\n",
    "except Exception as e:\n",
    "    print(f\"Login failed: {e}\")\n",
    "    raise\n",
    "\n",
    "# Target private username\n",
    "username = \"shr_eya28\"\n",
    "\n",
    "try:\n",
    "    # Load the profile to confirm it exists\n",
    "    profile = instaloader.Profile.from_username(L.context, username)\n",
    "    print(f\"Profile: {username}, Private: {profile.is_private}\")\n",
    "\n",
    "    # Search public posts from a broad hashtag\n",
    "    print(f\"Searching public posts for mentions of @{username} in #friends...\")\n",
    "    posts_data = []\n",
    "    hashtag = instaloader.Hashtag.from_name(L.context, \"friends\")  # Broad hashtag\n",
    "    for post in hashtag.get_posts():\n",
    "        if post.caption and f\"@{username}\" in post.caption.lower():\n",
    "            post_info = {\n",
    "                \"date\": str(post.date),\n",
    "                \"caption\": post.caption,\n",
    "                \"likes\": post.likes,\n",
    "                \"url\": post.url,\n",
    "                \"posted_by\": post.owner_username\n",
    "            }\n",
    "            posts_data.append(post_info)\n",
    "            print(f\"Found post by {post.owner_username}: {post.caption}\")\n",
    "            print(f\"URL: {post.url}\")\n",
    "            print(\"---\")\n",
    "        # Limit to avoid excessive scraping\n",
    "        if len(posts_data) >= 10:\n",
    "            break\n",
    "\n",
    "    # Save results\n",
    "    if posts_data:\n",
    "        import json\n",
    "        with open(f\"{username}_tagged_mentions.json\", \"w\") as f:\n",
    "            json.dump(posts_data, f, indent=4)\n",
    "        print(f\"Saved {len(posts_data)} posts to {username}_tagged_mentions.json\")\n",
    "    else:\n",
    "        print(f\"No public posts found mentioning @{username} in #friends,#family,#jss,#vacation.\")\n",
    "\n",
    "except Exception as e:\n",
    "    print(f\"An error occurred: {e}\")"
   ]
  },
  {
   "cell_type": "code",
   "execution_count": 21,
   "id": "1a0ccf6f-6bb8-4e4b-879c-8410d66782fc",
   "metadata": {},
   "outputs": [
    {
     "name": "stdout",
     "output_type": "stream",
     "text": [
      "Logged in successfully!\n",
      "Profile: nasa, Private: False\n",
      "Fetching first few posts...\n"
     ]
    },
    {
     "name": "stderr",
     "output_type": "stream",
     "text": [
      "JSON Query to graphql/query: 401 Unauthorized - \"fail\" status, message \"Please wait a few minutes before you try again.\" when accessing https://www.instagram.com/graphql/query [retrying; skip with ^C]\n",
      "JSON Query to graphql/query: 401 Unauthorized - \"fail\" status, message \"Please wait a few minutes before you try again.\" when accessing https://www.instagram.com/graphql/query?variables=%7B%22data%22%3A%7B%22count%22%3A12%2C%22include_relationship_info%22%3Atrue%2C%22latest_besties_reel_media%22%3Atrue%2C%22latest_reel_media%22%3Atrue%7D%2C%22username%22%3A%22nasa%22%2C%22__relay_internal__pv__PolarisFeedShareMenurelayprovider%22%3Afalse%7D&doc_id=7898261790222653&server_timestamps=true [retrying; skip with ^C]\n"
     ]
    },
    {
     "name": "stdout",
     "output_type": "stream",
     "text": [
      "An error occurred: JSON Query to graphql/query: 401 Unauthorized - \"fail\" status, message \"Please wait a few minutes before you try again.\" when accessing https://www.instagram.com/graphql/query?variables=%7B%22data%22%3A%7B%22count%22%3A12%2C%22include_relationship_info%22%3Atrue%2C%22latest_besties_reel_media%22%3Atrue%2C%22latest_reel_media%22%3Atrue%7D%2C%22username%22%3A%22nasa%22%2C%22__relay_internal__pv__PolarisFeedShareMenurelayprovider%22%3Afalse%7D&doc_id=7898261790222653&server_timestamps=true\n"
     ]
    }
   ],
   "source": [
    "import instaloader\n",
    "\n",
    "# Initialize Instaloader\n",
    "L = instaloader.Instaloader()\n",
    "\n",
    "# Login credentials\n",
    "USERNAME = \"sssuuuuiiliii\"  # Replace with your username\n",
    "PASSWORD = \"Siddharth@2020\"  # Replace with your password\n",
    "try:\n",
    "    L.login(USERNAME, PASSWORD)\n",
    "    print(\"Logged in successfully!\")\n",
    "except Exception as e:\n",
    "    print(f\"Login failed: {e}\")\n",
    "    raise\n",
    "\n",
    "# Test with a known public profile (e.g., \"nasa\")\n",
    "test_username = \"nasa\"\n",
    "try:\n",
    "    profile = instaloader.Profile.from_username(L.context, test_username)\n",
    "    print(f\"Profile: {profile.username}, Private: {profile.is_private}\")\n",
    "    print(\"Fetching first few posts...\")\n",
    "    for i, post in enumerate(profile.get_posts()):\n",
    "        print(f\"Post {i+1}: {post.caption[:50]}... (URL: {post.url})\")\n",
    "        if i >= 2:  # Limit to 3 posts\n",
    "            break\n",
    "except Exception as e:\n",
    "    print(f\"An error occurred: {e}\")"
   ]
  },
  {
   "cell_type": "code",
   "execution_count": 25,
   "id": "d3cdb2d3-ac01-4d44-b4c8-e914c05022e3",
   "metadata": {},
   "outputs": [
    {
     "name": "stdout",
     "output_type": "stream",
     "text": [
      "Logged in successfully!\n"
     ]
    },
    {
     "name": "stderr",
     "output_type": "stream",
     "text": [
      "JSON Query to api/v1/users/web_profile_info/?username= shr_eya28: 404 Not Found when accessing https://i.instagram.com/api/v1/users/web_profile_info/?username=%20shr_eya28 [retrying; skip with ^C]\n",
      "JSON Query to api/v1/users/web_profile_info/?username= shr_eya28: 404 Not Found when accessing https://i.instagram.com/api/v1/users/web_profile_info/?username=%20shr_eya28 [retrying; skip with ^C]\n",
      "JSON Query to web/search/topsearch/: 401 Unauthorized - \"fail\" status, message \"Server Error\" when accessing https://www.instagram.com/web/search/topsearch/?context=blended&query=+shr_eya28&include_reel=False&__a=1 [retrying; skip with ^C]\n",
      "JSON Query to web/search/topsearch/: 401 Unauthorized - \"fail\" status, message \"Server Error\" when accessing https://www.instagram.com/web/search/topsearch/?context=blended&query=+shr_eya28&include_reel=False&__a=1 [retrying; skip with ^C]\n"
     ]
    },
    {
     "name": "stdout",
     "output_type": "stream",
     "text": [
      "An error occurred: JSON Query to web/search/topsearch/: 401 Unauthorized - \"fail\" status, message \"Server Error\" when accessing https://www.instagram.com/web/search/topsearch/?context=blended&query=+shr_eya28&include_reel=False&__a=1\n"
     ]
    }
   ],
   "source": [
    "import instaloader\n",
    "import time\n",
    "\n",
    "# Initialize Instaloader\n",
    "L = instaloader.Instaloader()\n",
    "\n",
    "# Login credentials\n",
    "USERNAME = \"sssuuuuiiliii\"  # Replace with your username\n",
    "PASSWORD = \"Siddharth@2020\"  # Replace with your password\n",
    "try:\n",
    "    L.login(USERNAME, PASSWORD)\n",
    "    print(\"Logged in successfully!\")\n",
    "except Exception as e:\n",
    "    print(f\"Login failed: {e}\")\n",
    "    raise\n",
    "\n",
    "# Target private username\n",
    "username = \"shr_eya28\"\n",
    "\n",
    "try:\n",
    "    # Load the profile\n",
    "    profile = instaloader.Profile.from_username(L.context, username)\n",
    "    print(f\"Profile: {username}, Private: {profile.is_private}\")\n",
    "\n",
    "    # Sample posts from a public hashtag\n",
    "    print(f\"Sampling posts from #friends for mentions of @{username}...\")\n",
    "    posts_data = []\n",
    "    hashtag_name = \"friends\"  # Change to a relevant hashtag\n",
    "    hashtag = instaloader.Hashtag.from_name(L.context, hashtag_name)\n",
    "    \n",
    "    for post in hashtag.get_posts():\n",
    "        if post.caption and f\"@{username}\" in post.caption.lower():\n",
    "            post_info = {\n",
    "                \"date\": str(post.date),\n",
    "                \"caption\": post.caption,\n",
    "                \"likes\": post.likes,\n",
    "                \"url\": post.url,\n",
    "                \"posted_by\": post.owner_username\n",
    "            }\n",
    "            posts_data.append(post_info)\n",
    "            print(f\"Found post by {post.owner_username}: {post.caption}\")\n",
    "            print(f\"URL: {post.url}\")\n",
    "            print(\"---\")\n",
    "        if len(posts_data) >= 5:  # Limit to 5 matches\n",
    "            break\n",
    "        time.sleep(5)  # Delay to avoid rate limits\n",
    "\n",
    "    if posts_data:\n",
    "        import json\n",
    "        with open(f\"{username}_tagged_mentions.json\", \"w\") as f:\n",
    "            json.dump(posts_data, f, indent=4)\n",
    "        print(f\"Saved {len(posts_data)} posts to {username}_tagged_mentions.json\")\n",
    "    else:\n",
    "        print(f\"No mentions of @{username} found in #{hashtag_name} sample.\")\n",
    "\n",
    "except Exception as e:\n",
    "    print(f\"An error occurred: {e}\")"
   ]
  },
  {
   "cell_type": "code",
   "execution_count": 29,
   "id": "5dc8c91d-31bd-4275-a4f5-5ecf1b3abb0c",
   "metadata": {},
   "outputs": [
    {
     "name": "stdout",
     "output_type": "stream",
     "text": [
      "Logged in successfully!\n",
      "Profile: shr_eya28, Private: True\n",
      "Sampling posts from #friends for mentions of @shr_eya28...\n"
     ]
    },
    {
     "name": "stderr",
     "output_type": "stream",
     "text": [
      "JSON Query to api/v1/tags/web_info/: 403 Forbidden - \"fail\" status, message \"login_required\" when accessing https://i.instagram.com/api/v1/tags/web_info/?__a=1&__d=dis&tag_name=friends [retrying; skip with ^C]\n",
      "JSON Query to api/v1/tags/web_info/: 403 Forbidden - \"fail\" status, message \"login_required\" when accessing https://i.instagram.com/api/v1/tags/web_info/?__a=1&__d=dis&tag_name=friends [retrying; skip with ^C]\n"
     ]
    },
    {
     "name": "stdout",
     "output_type": "stream",
     "text": [
      "An error occurred: JSON Query to api/v1/tags/web_info/: 403 Forbidden - \"fail\" status, message \"login_required\" when accessing https://i.instagram.com/api/v1/tags/web_info/?__a=1&__d=dis&tag_name=friends\n"
     ]
    }
   ],
   "source": [
    "import instaloader\n",
    "import time\n",
    "\n",
    "# Initialize Instaloader\n",
    "L = instaloader.Instaloader()\n",
    "\n",
    "# Login credentials\n",
    "USERNAME = \"sssuuuuiiliii\"  # Replace with your username\n",
    "PASSWORD = \"Siddharth@2020\"  # Replace with your password\n",
    "try:\n",
    "    L.login(USERNAME, PASSWORD)\n",
    "    print(\"Logged in successfully!\")\n",
    "except Exception as e:\n",
    "    print(f\"Login failed: {e}\")\n",
    "    raise\n",
    "\n",
    "# Target private username (fixed: no leading space)\n",
    "username = \"shr_eya28\"  # Corrected from \" shr_eya28\"\n",
    "\n",
    "try:\n",
    "    # Load the profile\n",
    "    profile = instaloader.Profile.from_username(L.context, username)\n",
    "    print(f\"Profile: {username}, Private: {profile.is_private}\")\n",
    "\n",
    "    # Sample posts from a public hashtag\n",
    "    print(f\"Sampling posts from #friends for mentions of @{username}...\")\n",
    "    posts_data = []\n",
    "    hashtag_name = \"friends\"  # Change to a relevant hashtag\n",
    "    hashtag = instaloader.Hashtag.from_name(L.context, hashtag_name)\n",
    "    \n",
    "    for post in hashtag.get_posts():\n",
    "        if post.caption and f\"@{username}\" in post.caption.lower():\n",
    "            post_info = {\n",
    "                \"date\": str(post.date),\n",
    "                \"caption\": post.caption,\n",
    "                \"likes\": post.likes,\n",
    "                \"url\": post.url,\n",
    "                \"posted_by\": post.owner_username\n",
    "            }\n",
    "            posts_data.append(post_info)\n",
    "            print(f\"Found post by {post.owner_username}: {post.caption}\")\n",
    "            print(f\"URL: {post.url}\")\n",
    "            print(\"---\")\n",
    "        if len(posts_data) >= 5:  # Limit to 5 matches\n",
    "            break\n",
    "        time.sleep(5)  # Delay to avoid rate limits\n",
    "\n",
    "    if posts_data:\n",
    "        import json\n",
    "        with open(f\"{username}_tagged_mentions.json\", \"w\") as f:\n",
    "            json.dump(posts_data, f, indent=4)\n",
    "        print(f\"Saved {len(posts_data)} posts to {username}_tagged_mentions.json\")\n",
    "    else:\n",
    "        print(f\"No mentions of @{username} found in #{hashtag_name} sample.\")\n",
    "\n",
    "except Exception as e:\n",
    "    print(f\"An error occurred: {e}\")"
   ]
  },
  {
   "cell_type": "code",
   "execution_count": null,
   "id": "6f0cfb58-f63f-430b-8ef4-d41324c88c9d",
   "metadata": {},
   "outputs": [],
   "source": []
  }
 ],
 "metadata": {
  "kernelspec": {
   "display_name": "Python 3 (ipykernel)",
   "language": "python",
   "name": "python3"
  },
  "language_info": {
   "codemirror_mode": {
    "name": "ipython",
    "version": 3
   },
   "file_extension": ".py",
   "mimetype": "text/x-python",
   "name": "python",
   "nbconvert_exporter": "python",
   "pygments_lexer": "ipython3",
   "version": "3.12.4"
  }
 },
 "nbformat": 4,
 "nbformat_minor": 5
}
