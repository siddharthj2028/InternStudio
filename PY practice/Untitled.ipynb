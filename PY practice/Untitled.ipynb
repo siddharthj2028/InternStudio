{
 "cells": [
  {
   "cell_type": "code",
   "execution_count": 43,
   "id": "b34ad97c-e6c9-4285-a9c9-54b6326104f3",
   "metadata": {},
   "outputs": [
    {
     "name": "stdin",
     "output_type": "stream",
     "text": [
      " 3\n",
      " gia\n",
      " 45\n",
      " paige\n",
      " 50\n",
      " elena\n",
      " 3\n"
     ]
    },
    {
     "name": "stdout",
     "output_type": "stream",
     "text": [
      "gia\n"
     ]
    }
   ],
   "source": [
    "if __name__ == '__main__':\n",
    "    students = []\n",
    "    for _ in range(int(input())):\n",
    "        name = input()\n",
    "        score = float(input())\n",
    "        students.append([name,score])\n",
    "        \n",
    "    scores = []\n",
    "    for student in students:\n",
    "        scores.append(student[1])\n",
    "\n",
    "    unique_scores = list(set(scores))\n",
    "    unique_scores.sort()\n",
    "    second_lowest = unique_scores[1]\n",
    "\n",
    "    second_lowest_list = []\n",
    "    for student in students:\n",
    "        if student[1] == unique_scores[1]:\n",
    "            second_lowest_list.append(student[0])\n",
    "\n",
    "    second_lowest_list.sort()\n",
    "    for name in second_lowest_list:\n",
    "        print(name)\n",
    "        \n",
    "        "
   ]
  },
  {
   "cell_type": "code",
   "execution_count": 29,
   "id": "6d51b16f-a048-45d3-baf6-931bcf45ffed",
   "metadata": {},
   "outputs": [
    {
     "name": "stdin",
     "output_type": "stream",
     "text": [
      "Enter number of students:  3\n",
      "Enter name:  rahul\n",
      "Enter score:  55\n",
      "Enter name:  jim\n",
      "Enter score:  323\n",
      "Enter name:  tia\n",
      "Enter score:  24 \n"
     ]
    },
    {
     "name": "stdout",
     "output_type": "stream",
     "text": [
      "rahul\n"
     ]
    }
   ],
   "source": [
    "if __name__ == '__main__':\n",
    "    # Step 1: Store names and scores\n",
    "    students = []\n",
    "    n = int(input(\"Enter number of students: \"))\n",
    "    \n",
    "    for _ in range(n):\n",
    "        name = input(\"Enter name: \")\n",
    "        score = float(input(\"Enter score: \"))\n",
    "        students.append([name, score])\n",
    "\n",
    "    # Step 2: Find the second lowest score\n",
    "    scores = []\n",
    "    for student in students:\n",
    "        scores.append(student[1])\n",
    "\n",
    "    unique_scores = list(set(scores))\n",
    "    unique_scores.sort()\n",
    "    second_lowest_score = unique_scores[1]\n",
    "\n",
    "    # Step 3: Find students with the second lowest score\n",
    "    second_lowest_students = []\n",
    "    for student in students:\n",
    "        if student[1] == second_lowest_score:\n",
    "            second_lowest_students.append(student[0])\n",
    "\n",
    "    # Step 4: Sort names alphabetically and print\n",
    "    second_lowest_students.sort()\n",
    "    for name in second_lowest_students:\n",
    "        print(name)\n"
   ]
  },
  {
   "cell_type": "code",
   "execution_count": 45,
   "id": "c041e131-3672-4c67-ba70-12978a040f95",
   "metadata": {},
   "outputs": [
    {
     "name": "stdin",
     "output_type": "stream",
     "text": [
      " 3\n",
      " harry\n",
      " 45\n",
      " etsg\n",
      " 34534\n",
      " rtsg\n",
      " 3463\n"
     ]
    },
    {
     "ename": "TypeError",
     "evalue": "unhashable type: 'list'",
     "output_type": "error",
     "traceback": [
      "\u001b[1;31m---------------------------------------------------------------------------\u001b[0m",
      "\u001b[1;31mTypeError\u001b[0m                                 Traceback (most recent call last)",
      "Cell \u001b[1;32mIn[45], line 12\u001b[0m\n\u001b[0;32m      9\u001b[0m \u001b[38;5;28;01mfor\u001b[39;00m student \u001b[38;5;129;01min\u001b[39;00m students:\n\u001b[0;32m     10\u001b[0m     scores\u001b[38;5;241m.\u001b[39mappend(student[\u001b[38;5;241m1\u001b[39m])\n\u001b[1;32m---> 12\u001b[0m unique_scores \u001b[38;5;241m=\u001b[39m \u001b[38;5;28mlist\u001b[39m(\u001b[38;5;28mset\u001b[39m(scores))\n\u001b[0;32m     13\u001b[0m unique_scores\u001b[38;5;241m.\u001b[39msort()\n\u001b[0;32m     14\u001b[0m sec_lowest_score \u001b[38;5;241m=\u001b[39m unique_scores[\u001b[38;5;241m1\u001b[39m]\n",
      "\u001b[1;31mTypeError\u001b[0m: unhashable type: 'list'"
     ]
    }
   ],
   "source": [
    "if __name__ == '__main__':\n",
    "    for _ in range(int(input())):\n",
    "        name = input()\n",
    "        score = float(input())\n",
    "        students = []\n",
    "        students.append([name,students])\n",
    "        \n",
    "    scores = []\n",
    "    for student in students:\n",
    "        scores.append(student[1])\n",
    "        \n",
    "    unique_scores = list(set(scores))\n",
    "    unique_scores.sort()\n",
    "    sec_lowest_score = unique_scores[1]\n",
    "    \n",
    "    sec_lowest_list = []\n",
    "    for student in students:\n",
    "        if student[1] == sec_lowest_score[1]:\n",
    "            sec_lowest_list.append(student[0])\n",
    "    \n",
    "    sec_lowest_list.sort()\n",
    "    for name in sec_lowest_list:\n",
    "        print(name)"
   ]
  },
  {
   "cell_type": "code",
   "execution_count": null,
   "id": "5bf86042-59af-4319-ac75-7f8487891740",
   "metadata": {},
   "outputs": [],
   "source": []
  }
 ],
 "metadata": {
  "kernelspec": {
   "display_name": "Python 3 (ipykernel)",
   "language": "python",
   "name": "python3"
  },
  "language_info": {
   "codemirror_mode": {
    "name": "ipython",
    "version": 3
   },
   "file_extension": ".py",
   "mimetype": "text/x-python",
   "name": "python",
   "nbconvert_exporter": "python",
   "pygments_lexer": "ipython3",
   "version": "3.12.4"
  }
 },
 "nbformat": 4,
 "nbformat_minor": 5
}
